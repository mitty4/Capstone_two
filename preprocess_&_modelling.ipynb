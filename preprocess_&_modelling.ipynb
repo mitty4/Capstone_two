{
 "cells": [
  {
   "cell_type": "markdown",
   "metadata": {},
   "source": [
    "## Pre-processing & Training Data Development"
   ]
  },
  {
   "cell_type": "markdown",
   "metadata": {},
   "source": [
    "### <a href='#dummy'> Dummy Variables </a>\n",
    "\n",
    "### <a href='#scaler'> Standardize the Data </a>\n",
    "\n",
    "### <a href='#split'> The Train Test Split </a>"
   ]
  },
  {
   "cell_type": "code",
   "execution_count": 1,
   "metadata": {},
   "outputs": [],
   "source": [
    "import pandas as pd\n",
    "\n",
    "## import local files\n",
    "file_name = './data/knn_cleaned.csv'\n",
    "df = pd.read_csv(file_name)"
   ]
  },
  {
   "cell_type": "code",
   "execution_count": 12,
   "metadata": {},
   "outputs": [],
   "source": [
    "import warnings\n",
    "warnings.filterwarnings(\"ignore\")"
   ]
  },
  {
   "cell_type": "markdown",
   "metadata": {},
   "source": [
    "###  <span id=\"dummy\"> Dummy Variables </span> \n",
    "The current df is already in a dummy variable form due to using simple imputer and knn imputer in earlier stages to fill missing values. "
   ]
  },
  {
   "cell_type": "code",
   "execution_count": 2,
   "metadata": {},
   "outputs": [
    {
     "data": {
      "text/plain": [
       "Unnamed: 0        int64\n",
       "id              float64\n",
       "url             float64\n",
       "region          float64\n",
       "region_url      float64\n",
       "price           float64\n",
       "year            float64\n",
       "manufacturer    float64\n",
       "model           float64\n",
       "condition       float64\n",
       "cylinders       float64\n",
       "fuel            float64\n",
       "odometer        float64\n",
       "title_status    float64\n",
       "transmission    float64\n",
       "vin             float64\n",
       "drive           float64\n",
       "size            float64\n",
       "type            float64\n",
       "paint_color     float64\n",
       "image_url       float64\n",
       "description     float64\n",
       "state           float64\n",
       "lat             float64\n",
       "long            float64\n",
       "vin_year        float64\n",
       "dtype: object"
      ]
     },
     "execution_count": 2,
     "metadata": {},
     "output_type": "execute_result"
    }
   ],
   "source": [
    "# Check for dtypes\n",
    "df.dtypes"
   ]
  },
  {
   "cell_type": "markdown",
   "metadata": {},
   "source": [
    "###  <span id=\"scaler\"> Standardize the Data </span> "
   ]
  },
  {
   "cell_type": "markdown",
   "metadata": {},
   "source": [
    "I standardize the data so that the magnitude and range of each feature are similar enough for modeling."
   ]
  },
  {
   "cell_type": "code",
   "execution_count": 3,
   "metadata": {},
   "outputs": [
    {
     "data": {
      "text/plain": [
       "StandardScaler()"
      ]
     },
     "execution_count": 3,
     "metadata": {},
     "output_type": "execute_result"
    }
   ],
   "source": [
    "# standardize the columns individually\n",
    "from sklearn.preprocessing import StandardScaler\n",
    "ss = StandardScaler()\n",
    "ss"
   ]
  },
  {
   "cell_type": "code",
   "execution_count": 4,
   "metadata": {},
   "outputs": [
    {
     "data": {
      "text/html": [
       "<div>\n",
       "<style scoped>\n",
       "    .dataframe tbody tr th:only-of-type {\n",
       "        vertical-align: middle;\n",
       "    }\n",
       "\n",
       "    .dataframe tbody tr th {\n",
       "        vertical-align: top;\n",
       "    }\n",
       "\n",
       "    .dataframe thead th {\n",
       "        text-align: right;\n",
       "    }\n",
       "</style>\n",
       "<table border=\"1\" class=\"dataframe\">\n",
       "  <thead>\n",
       "    <tr style=\"text-align: right;\">\n",
       "      <th></th>\n",
       "      <th>Unnamed: 0</th>\n",
       "      <th>id</th>\n",
       "      <th>url</th>\n",
       "      <th>region</th>\n",
       "      <th>region_url</th>\n",
       "      <th>price</th>\n",
       "      <th>year</th>\n",
       "      <th>manufacturer</th>\n",
       "      <th>model</th>\n",
       "      <th>condition</th>\n",
       "      <th>...</th>\n",
       "      <th>drive</th>\n",
       "      <th>size</th>\n",
       "      <th>type</th>\n",
       "      <th>paint_color</th>\n",
       "      <th>image_url</th>\n",
       "      <th>description</th>\n",
       "      <th>state</th>\n",
       "      <th>lat</th>\n",
       "      <th>long</th>\n",
       "      <th>vin_year</th>\n",
       "    </tr>\n",
       "  </thead>\n",
       "  <tbody>\n",
       "    <tr>\n",
       "      <th>count</th>\n",
       "      <td>2.665240e+05</td>\n",
       "      <td>2.665240e+05</td>\n",
       "      <td>2.665240e+05</td>\n",
       "      <td>2.665240e+05</td>\n",
       "      <td>2.665240e+05</td>\n",
       "      <td>2.665240e+05</td>\n",
       "      <td>2.665240e+05</td>\n",
       "      <td>2.665240e+05</td>\n",
       "      <td>2.665240e+05</td>\n",
       "      <td>2.665240e+05</td>\n",
       "      <td>...</td>\n",
       "      <td>2.665240e+05</td>\n",
       "      <td>2.665240e+05</td>\n",
       "      <td>2.665240e+05</td>\n",
       "      <td>2.665240e+05</td>\n",
       "      <td>2.665240e+05</td>\n",
       "      <td>2.665240e+05</td>\n",
       "      <td>2.665240e+05</td>\n",
       "      <td>2.665240e+05</td>\n",
       "      <td>2.665240e+05</td>\n",
       "      <td>2.665240e+05</td>\n",
       "    </tr>\n",
       "    <tr>\n",
       "      <th>mean</th>\n",
       "      <td>-6.824862e-18</td>\n",
       "      <td>8.295150e-14</td>\n",
       "      <td>-6.824862e-18</td>\n",
       "      <td>-5.459889e-17</td>\n",
       "      <td>1.450283e-17</td>\n",
       "      <td>2.303391e-17</td>\n",
       "      <td>1.671750e-14</td>\n",
       "      <td>2.474012e-17</td>\n",
       "      <td>2.911230e-17</td>\n",
       "      <td>1.442818e-16</td>\n",
       "      <td>...</td>\n",
       "      <td>3.668363e-17</td>\n",
       "      <td>-8.517747e-17</td>\n",
       "      <td>-1.716879e-17</td>\n",
       "      <td>-8.371119e-17</td>\n",
       "      <td>-5.459889e-17</td>\n",
       "      <td>3.753674e-17</td>\n",
       "      <td>-1.177289e-16</td>\n",
       "      <td>2.815255e-16</td>\n",
       "      <td>-2.098645e-15</td>\n",
       "      <td>-5.443382e-14</td>\n",
       "    </tr>\n",
       "    <tr>\n",
       "      <th>std</th>\n",
       "      <td>1.000002e+00</td>\n",
       "      <td>1.000002e+00</td>\n",
       "      <td>1.000002e+00</td>\n",
       "      <td>1.000002e+00</td>\n",
       "      <td>1.000002e+00</td>\n",
       "      <td>1.000002e+00</td>\n",
       "      <td>1.000002e+00</td>\n",
       "      <td>1.000002e+00</td>\n",
       "      <td>1.000002e+00</td>\n",
       "      <td>1.000002e+00</td>\n",
       "      <td>...</td>\n",
       "      <td>1.000002e+00</td>\n",
       "      <td>1.000002e+00</td>\n",
       "      <td>1.000002e+00</td>\n",
       "      <td>1.000002e+00</td>\n",
       "      <td>1.000002e+00</td>\n",
       "      <td>1.000002e+00</td>\n",
       "      <td>1.000002e+00</td>\n",
       "      <td>1.000002e+00</td>\n",
       "      <td>1.000002e+00</td>\n",
       "      <td>1.000002e+00</td>\n",
       "    </tr>\n",
       "    <tr>\n",
       "      <th>min</th>\n",
       "      <td>-1.732044e+00</td>\n",
       "      <td>-2.259090e+00</td>\n",
       "      <td>-1.732044e+00</td>\n",
       "      <td>-1.571951e+00</td>\n",
       "      <td>-1.601270e+00</td>\n",
       "      <td>-1.197031e+00</td>\n",
       "      <td>-3.653691e+00</td>\n",
       "      <td>-1.211226e+00</td>\n",
       "      <td>-5.876796e-01</td>\n",
       "      <td>-1.315222e+00</td>\n",
       "      <td>...</td>\n",
       "      <td>-1.139715e+00</td>\n",
       "      <td>-6.046950e-01</td>\n",
       "      <td>-9.379663e-01</td>\n",
       "      <td>-1.792803e+00</td>\n",
       "      <td>-1.464109e+00</td>\n",
       "      <td>-1.588215e+00</td>\n",
       "      <td>-1.391315e+00</td>\n",
       "      <td>-2.009984e+01</td>\n",
       "      <td>-3.796720e+00</td>\n",
       "      <td>-4.708434e+00</td>\n",
       "    </tr>\n",
       "    <tr>\n",
       "      <th>25%</th>\n",
       "      <td>-8.660222e-01</td>\n",
       "      <td>-7.552625e-01</td>\n",
       "      <td>-8.660222e-01</td>\n",
       "      <td>-9.812909e-01</td>\n",
       "      <td>-9.820284e-01</td>\n",
       "      <td>-7.191911e-01</td>\n",
       "      <td>-7.265959e-01</td>\n",
       "      <td>-6.941509e-01</td>\n",
       "      <td>-5.517599e-01</td>\n",
       "      <td>-1.315222e+00</td>\n",
       "      <td>...</td>\n",
       "      <td>-1.139715e+00</td>\n",
       "      <td>-6.046950e-01</td>\n",
       "      <td>-9.379663e-01</td>\n",
       "      <td>-7.522108e-01</td>\n",
       "      <td>-8.840063e-01</td>\n",
       "      <td>-8.859741e-01</td>\n",
       "      <td>-7.718667e-01</td>\n",
       "      <td>-6.272349e-01</td>\n",
       "      <td>-7.089952e-01</td>\n",
       "      <td>-5.342272e-01</td>\n",
       "    </tr>\n",
       "    <tr>\n",
       "      <th>50%</th>\n",
       "      <td>0.000000e+00</td>\n",
       "      <td>2.020244e-01</td>\n",
       "      <td>0.000000e+00</td>\n",
       "      <td>-2.482323e-03</td>\n",
       "      <td>1.701446e-02</td>\n",
       "      <td>-2.411078e-01</td>\n",
       "      <td>1.343145e-01</td>\n",
       "      <td>-4.356132e-01</td>\n",
       "      <td>-4.333465e-01</td>\n",
       "      <td>8.323373e-01</td>\n",
       "      <td>...</td>\n",
       "      <td>-3.036390e-01</td>\n",
       "      <td>-6.046950e-01</td>\n",
       "      <td>-2.900774e-01</td>\n",
       "      <td>-5.848265e-02</td>\n",
       "      <td>-1.186057e-01</td>\n",
       "      <td>-5.942372e-02</td>\n",
       "      <td>-2.900739e-01</td>\n",
       "      <td>1.106797e-01</td>\n",
       "      <td>3.345710e-01</td>\n",
       "      <td>1.732654e-01</td>\n",
       "    </tr>\n",
       "    <tr>\n",
       "      <th>75%</th>\n",
       "      <td>8.660222e-01</td>\n",
       "      <td>9.009389e-01</td>\n",
       "      <td>8.660222e-01</td>\n",
       "      <td>8.244421e-01</td>\n",
       "      <td>8.344132e-01</td>\n",
       "      <td>4.110818e-01</td>\n",
       "      <td>8.230427e-01</td>\n",
       "      <td>7.278062e-01</td>\n",
       "      <td>5.248323e-02</td>\n",
       "      <td>8.323373e-01</td>\n",
       "      <td>...</td>\n",
       "      <td>1.368512e+00</td>\n",
       "      <td>4.239480e-01</td>\n",
       "      <td>3.578115e-01</td>\n",
       "      <td>9.821095e-01</td>\n",
       "      <td>8.388249e-01</td>\n",
       "      <td>8.555812e-01</td>\n",
       "      <td>8.111670e-01</td>\n",
       "      <td>6.395197e-01</td>\n",
       "      <td>7.165670e-01</td>\n",
       "      <td>7.392595e-01</td>\n",
       "    </tr>\n",
       "    <tr>\n",
       "      <th>max</th>\n",
       "      <td>1.732044e+00</td>\n",
       "      <td>1.302025e+00</td>\n",
       "      <td>1.732044e+00</td>\n",
       "      <td>1.794813e+00</td>\n",
       "      <td>1.767404e+00</td>\n",
       "      <td>3.764260e+01</td>\n",
       "      <td>1.511771e+00</td>\n",
       "      <td>3.959527e+00</td>\n",
       "      <td>4.936350e+00</td>\n",
       "      <td>2.979897e+00</td>\n",
       "      <td>...</td>\n",
       "      <td>1.368512e+00</td>\n",
       "      <td>3.509877e+00</td>\n",
       "      <td>3.273312e+00</td>\n",
       "      <td>2.369566e+00</td>\n",
       "      <td>1.959940e+00</td>\n",
       "      <td>1.832388e+00</td>\n",
       "      <td>2.050063e+00</td>\n",
       "      <td>7.002963e+00</td>\n",
       "      <td>1.176741e+01</td>\n",
       "      <td>1.446752e+00</td>\n",
       "    </tr>\n",
       "  </tbody>\n",
       "</table>\n",
       "<p>8 rows × 26 columns</p>\n",
       "</div>"
      ],
      "text/plain": [
       "         Unnamed: 0            id           url        region    region_url  \\\n",
       "count  2.665240e+05  2.665240e+05  2.665240e+05  2.665240e+05  2.665240e+05   \n",
       "mean  -6.824862e-18  8.295150e-14 -6.824862e-18 -5.459889e-17  1.450283e-17   \n",
       "std    1.000002e+00  1.000002e+00  1.000002e+00  1.000002e+00  1.000002e+00   \n",
       "min   -1.732044e+00 -2.259090e+00 -1.732044e+00 -1.571951e+00 -1.601270e+00   \n",
       "25%   -8.660222e-01 -7.552625e-01 -8.660222e-01 -9.812909e-01 -9.820284e-01   \n",
       "50%    0.000000e+00  2.020244e-01  0.000000e+00 -2.482323e-03  1.701446e-02   \n",
       "75%    8.660222e-01  9.009389e-01  8.660222e-01  8.244421e-01  8.344132e-01   \n",
       "max    1.732044e+00  1.302025e+00  1.732044e+00  1.794813e+00  1.767404e+00   \n",
       "\n",
       "              price          year  manufacturer         model     condition  \\\n",
       "count  2.665240e+05  2.665240e+05  2.665240e+05  2.665240e+05  2.665240e+05   \n",
       "mean   2.303391e-17  1.671750e-14  2.474012e-17  2.911230e-17  1.442818e-16   \n",
       "std    1.000002e+00  1.000002e+00  1.000002e+00  1.000002e+00  1.000002e+00   \n",
       "min   -1.197031e+00 -3.653691e+00 -1.211226e+00 -5.876796e-01 -1.315222e+00   \n",
       "25%   -7.191911e-01 -7.265959e-01 -6.941509e-01 -5.517599e-01 -1.315222e+00   \n",
       "50%   -2.411078e-01  1.343145e-01 -4.356132e-01 -4.333465e-01  8.323373e-01   \n",
       "75%    4.110818e-01  8.230427e-01  7.278062e-01  5.248323e-02  8.323373e-01   \n",
       "max    3.764260e+01  1.511771e+00  3.959527e+00  4.936350e+00  2.979897e+00   \n",
       "\n",
       "       ...         drive          size          type   paint_color  \\\n",
       "count  ...  2.665240e+05  2.665240e+05  2.665240e+05  2.665240e+05   \n",
       "mean   ...  3.668363e-17 -8.517747e-17 -1.716879e-17 -8.371119e-17   \n",
       "std    ...  1.000002e+00  1.000002e+00  1.000002e+00  1.000002e+00   \n",
       "min    ... -1.139715e+00 -6.046950e-01 -9.379663e-01 -1.792803e+00   \n",
       "25%    ... -1.139715e+00 -6.046950e-01 -9.379663e-01 -7.522108e-01   \n",
       "50%    ... -3.036390e-01 -6.046950e-01 -2.900774e-01 -5.848265e-02   \n",
       "75%    ...  1.368512e+00  4.239480e-01  3.578115e-01  9.821095e-01   \n",
       "max    ...  1.368512e+00  3.509877e+00  3.273312e+00  2.369566e+00   \n",
       "\n",
       "          image_url   description         state           lat          long  \\\n",
       "count  2.665240e+05  2.665240e+05  2.665240e+05  2.665240e+05  2.665240e+05   \n",
       "mean  -5.459889e-17  3.753674e-17 -1.177289e-16  2.815255e-16 -2.098645e-15   \n",
       "std    1.000002e+00  1.000002e+00  1.000002e+00  1.000002e+00  1.000002e+00   \n",
       "min   -1.464109e+00 -1.588215e+00 -1.391315e+00 -2.009984e+01 -3.796720e+00   \n",
       "25%   -8.840063e-01 -8.859741e-01 -7.718667e-01 -6.272349e-01 -7.089952e-01   \n",
       "50%   -1.186057e-01 -5.942372e-02 -2.900739e-01  1.106797e-01  3.345710e-01   \n",
       "75%    8.388249e-01  8.555812e-01  8.111670e-01  6.395197e-01  7.165670e-01   \n",
       "max    1.959940e+00  1.832388e+00  2.050063e+00  7.002963e+00  1.176741e+01   \n",
       "\n",
       "           vin_year  \n",
       "count  2.665240e+05  \n",
       "mean  -5.443382e-14  \n",
       "std    1.000002e+00  \n",
       "min   -4.708434e+00  \n",
       "25%   -5.342272e-01  \n",
       "50%    1.732654e-01  \n",
       "75%    7.392595e-01  \n",
       "max    1.446752e+00  \n",
       "\n",
       "[8 rows x 26 columns]"
      ]
     },
     "execution_count": 4,
     "metadata": {},
     "output_type": "execute_result"
    }
   ],
   "source": [
    "ss.fit(df)\n",
    "scaled = pd.DataFrame(ss.transform(df), columns=df.columns)\n",
    "scaled.describe()"
   ]
  },
  {
   "cell_type": "markdown",
   "metadata": {},
   "source": [
    "### <span id=\"split\"> Split the Data into Train & Test  </span>\n",
    "\n",
    "This step is important so that the model we create can be tested against new data. "
   ]
  },
  {
   "cell_type": "code",
   "execution_count": 5,
   "metadata": {},
   "outputs": [],
   "source": [
    "from sklearn.model_selection import train_test_split"
   ]
  },
  {
   "cell_type": "code",
   "execution_count": 22,
   "metadata": {},
   "outputs": [],
   "source": [
    "keep = [\"fuel\",\"odometer\",\"year\"]\n",
    "more = [\"fuel\",\"odometer\",\"year\", \"model\",\"manufacturer\",\"region\",\"cylinders\",\"condition\",\"drive\"]\n",
    "\n",
    "X = scaled.loc[:,scaled.columns.isin(more)]\n",
    "y = scaled.price.values\n",
    "\n",
    "\n",
    "X = scaled.drop(columns=\"price\")\n",
    "\n",
    "X_train, X_test, y_train, y_test = train_test_split(X, y, test_size=0.3, random_state=42)\n",
    "\n"
   ]
  },
  {
   "cell_type": "markdown",
   "metadata": {},
   "source": [
    "## <span id=\"split\"> Modelling  </span>"
   ]
  },
  {
   "cell_type": "markdown",
   "metadata": {},
   "source": [
    "### Linear Regression"
   ]
  },
  {
   "cell_type": "code",
   "execution_count": 23,
   "metadata": {},
   "outputs": [
    {
     "data": {
      "text/plain": [
       "0.39745356359581807"
      ]
     },
     "execution_count": 23,
     "metadata": {},
     "output_type": "execute_result"
    }
   ],
   "source": [
    "# linear regression\n",
    "from sklearn.linear_model import LinearRegression\n",
    "\n",
    "lr = LinearRegression(fit_intercept=False,)\n",
    "lr.fit(X_train, y_train)\n",
    "y_pred = lr.predict(X_test)\n",
    "lr.score(X_test, y_test)\n",
    "\n",
    "\n",
    "# random forest"
   ]
  },
  {
   "cell_type": "markdown",
   "metadata": {
    "scrolled": true
   },
   "source": [
    "### Support Vector Machine"
   ]
  },
  {
   "cell_type": "code",
   "execution_count": 8,
   "metadata": {},
   "outputs": [],
   "source": [
    "# from sklearn.svm import SVR\n",
    "\n",
    "# svm = SVR(C=1.0, epsilon=0.2)\n",
    "# svm.fit(X_train, y_train)\n",
    "# svm.predict(X_test)\n",
    "# svm.score(X_test, y_test)"
   ]
  },
  {
   "cell_type": "markdown",
   "metadata": {},
   "source": [
    "SVM r^2 score = 0.47239055872658975 ## took 30 min"
   ]
  },
  {
   "cell_type": "markdown",
   "metadata": {},
   "source": [
    "### MLP Regressor"
   ]
  },
  {
   "cell_type": "code",
   "execution_count": 24,
   "metadata": {
    "scrolled": true
   },
   "outputs": [
    {
     "data": {
      "text/plain": [
       "0.6855475504017188"
      ]
     },
     "execution_count": 24,
     "metadata": {},
     "output_type": "execute_result"
    }
   ],
   "source": [
    "from sklearn.neural_network import MLPRegressor\n",
    "\n",
    "mlp = MLPRegressor(random_state=1, max_iter=500).fit(X_train, y_train)\n",
    "mlp.predict(X_test)\n",
    "mlp.score(X_test, y_test)"
   ]
  },
  {
   "cell_type": "markdown",
   "metadata": {},
   "source": [
    "### XGB"
   ]
  },
  {
   "cell_type": "code",
   "execution_count": 25,
   "metadata": {},
   "outputs": [
    {
     "data": {
      "text/plain": [
       "0.6814373419783262"
      ]
     },
     "execution_count": 25,
     "metadata": {},
     "output_type": "execute_result"
    }
   ],
   "source": [
    "from sklearn.ensemble import GradientBoostingRegressor\n",
    "\n",
    "reg = GradientBoostingRegressor(random_state=0)\n",
    "reg.fit(X_train,y_train)\n",
    "reg.predict(X_test)\n",
    "reg.score(X_test, y_test)"
   ]
  },
  {
   "cell_type": "markdown",
   "metadata": {},
   "source": [
    "### Decision Tree "
   ]
  },
  {
   "cell_type": "code",
   "execution_count": 26,
   "metadata": {},
   "outputs": [
    {
     "data": {
      "text/plain": [
       "0.6921737228453941"
      ]
     },
     "execution_count": 26,
     "metadata": {},
     "output_type": "execute_result"
    }
   ],
   "source": [
    "from sklearn.tree import DecisionTreeRegressor\n",
    "\n",
    "dt = DecisionTreeRegressor()\n",
    "dt.fit(X_train, y_train)\n",
    "dt.predict(X_test)\n",
    "dt.score(X_test, y_test)"
   ]
  },
  {
   "cell_type": "code",
   "execution_count": 27,
   "metadata": {},
   "outputs": [
    {
     "data": {
      "text/plain": [
       "array([0.67275574, 0.67725938, 0.68611966, 0.68126496, 0.69013781])"
      ]
     },
     "execution_count": 27,
     "metadata": {},
     "output_type": "execute_result"
    }
   ],
   "source": [
    "from sklearn.model_selection import cross_val_score\n",
    "\n",
    "scores = cross_val_score(dt, X_train, y_train, cv=5)\n",
    "scores"
   ]
  },
  {
   "cell_type": "markdown",
   "metadata": {},
   "source": [
    "### HyperParameters for Decision Tree"
   ]
  },
  {
   "cell_type": "code",
   "execution_count": 28,
   "metadata": {
    "scrolled": true
   },
   "outputs": [
    {
     "name": "stdout",
     "output_type": "stream",
     "text": [
      "Tuned Decision Tree Parameters: {'max_depth': 18, 'max_features': 'auto', 'min_samples_leaf': 7, 'random_state': 0, 'splitter': 'best'}\n",
      "Best score is 0.7410168458168531\n"
     ]
    }
   ],
   "source": [
    "from sklearn.model_selection import RandomizedSearchCV\n",
    "from scipy.stats import randint\n",
    "\n",
    "params = {\"max_depth\": range(16,22),\n",
    "              \"max_features\": [\"auto\"],\n",
    "              \"min_samples_leaf\": randint(1, 9),\n",
    "              \"splitter\":[\"best\",\"random\"],\n",
    "              \"random_state\": [0, None]}\n",
    "\n",
    "dt = DecisionTreeRegressor()\n",
    "\n",
    "tree_cv = RandomizedSearchCV(dt, params, cv=5)\n",
    "\n",
    "\n",
    "# Fit it to the data\n",
    "tree_cv.fit(X_train,y_train)\n",
    "\n",
    "# Print the tuned parameters and score\n",
    "print(\"Tuned Decision Tree Parameters: {}\".format(tree_cv.best_params_))\n",
    "print(\"Best score is {}\".format(tree_cv.best_score_))"
   ]
  },
  {
   "cell_type": "code",
   "execution_count": null,
   "metadata": {},
   "outputs": [],
   "source": []
  }
 ],
 "metadata": {
  "kernelspec": {
   "display_name": "Python 3",
   "language": "python",
   "name": "python3"
  },
  "language_info": {
   "codemirror_mode": {
    "name": "ipython",
    "version": 3
   },
   "file_extension": ".py",
   "mimetype": "text/x-python",
   "name": "python",
   "nbconvert_exporter": "python",
   "pygments_lexer": "ipython3",
   "version": "3.9.1"
  }
 },
 "nbformat": 4,
 "nbformat_minor": 4
}
