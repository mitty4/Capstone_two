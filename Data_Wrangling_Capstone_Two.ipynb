{
 "cells": [
  {
   "cell_type": "code",
   "execution_count": 30,
   "metadata": {},
   "outputs": [],
   "source": [
    "#import the appropriate dependencies\n",
    "import pandas as pd\n",
    "import numpy as np\n",
    "\n",
    "import seaborn as sns\n",
    "import matplotlib.pyplot as plt"
   ]
  },
  {
   "cell_type": "code",
   "execution_count": 3,
   "metadata": {},
   "outputs": [],
   "source": [
    "#import the data into a dataframe: df\n",
    "# download the data from 'https://www.kaggle.com/austinreese/craigslist-carstrucks-data?select=vehicles.csv'\n",
    "\n",
    "csv_file = './data/vehicles.csv'\n",
    "\n",
    "df = pd.read_csv(csv_file)"
   ]
  },
  {
   "cell_type": "code",
   "execution_count": 4,
   "metadata": {},
   "outputs": [
    {
     "data": {
      "text/html": [
       "<div>\n",
       "<style scoped>\n",
       "    .dataframe tbody tr th:only-of-type {\n",
       "        vertical-align: middle;\n",
       "    }\n",
       "\n",
       "    .dataframe tbody tr th {\n",
       "        vertical-align: top;\n",
       "    }\n",
       "\n",
       "    .dataframe thead th {\n",
       "        text-align: right;\n",
       "    }\n",
       "</style>\n",
       "<table border=\"1\" class=\"dataframe\">\n",
       "  <thead>\n",
       "    <tr style=\"text-align: right;\">\n",
       "      <th></th>\n",
       "      <th>id</th>\n",
       "      <th>url</th>\n",
       "      <th>region</th>\n",
       "      <th>region_url</th>\n",
       "      <th>price</th>\n",
       "      <th>year</th>\n",
       "      <th>manufacturer</th>\n",
       "      <th>model</th>\n",
       "      <th>condition</th>\n",
       "      <th>cylinders</th>\n",
       "      <th>...</th>\n",
       "      <th>drive</th>\n",
       "      <th>size</th>\n",
       "      <th>type</th>\n",
       "      <th>paint_color</th>\n",
       "      <th>image_url</th>\n",
       "      <th>description</th>\n",
       "      <th>county</th>\n",
       "      <th>state</th>\n",
       "      <th>lat</th>\n",
       "      <th>long</th>\n",
       "    </tr>\n",
       "  </thead>\n",
       "  <tbody>\n",
       "    <tr>\n",
       "      <th>0</th>\n",
       "      <td>7184791621</td>\n",
       "      <td>https://duluth.craigslist.org/ctd/d/duluth-200...</td>\n",
       "      <td>duluth / superior</td>\n",
       "      <td>https://duluth.craigslist.org</td>\n",
       "      <td>6995</td>\n",
       "      <td>2000.0</td>\n",
       "      <td>gmc</td>\n",
       "      <td>new sierra 1500</td>\n",
       "      <td>excellent</td>\n",
       "      <td>8 cylinders</td>\n",
       "      <td>...</td>\n",
       "      <td>4wd</td>\n",
       "      <td>NaN</td>\n",
       "      <td>NaN</td>\n",
       "      <td>red</td>\n",
       "      <td>https://images.craigslist.org/00n0n_f06ykBMcdh...</td>\n",
       "      <td>2000 *** GMC New Sierra 1500 Ext Cab 157.5  WB...</td>\n",
       "      <td>NaN</td>\n",
       "      <td>mn</td>\n",
       "      <td>46.8433</td>\n",
       "      <td>-92.2550</td>\n",
       "    </tr>\n",
       "    <tr>\n",
       "      <th>1</th>\n",
       "      <td>7184773187</td>\n",
       "      <td>https://duluth.craigslist.org/cto/d/saginaw-20...</td>\n",
       "      <td>duluth / superior</td>\n",
       "      <td>https://duluth.craigslist.org</td>\n",
       "      <td>8750</td>\n",
       "      <td>2013.0</td>\n",
       "      <td>hyundai</td>\n",
       "      <td>sonata</td>\n",
       "      <td>excellent</td>\n",
       "      <td>4 cylinders</td>\n",
       "      <td>...</td>\n",
       "      <td>fwd</td>\n",
       "      <td>NaN</td>\n",
       "      <td>NaN</td>\n",
       "      <td>grey</td>\n",
       "      <td>https://images.craigslist.org/00d0d_kgZ6xoeRw2...</td>\n",
       "      <td>For Sale:  2013 Hyundai Sonata GLS - $8750.  O...</td>\n",
       "      <td>NaN</td>\n",
       "      <td>mn</td>\n",
       "      <td>46.9074</td>\n",
       "      <td>-92.4638</td>\n",
       "    </tr>\n",
       "    <tr>\n",
       "      <th>2</th>\n",
       "      <td>7193375964</td>\n",
       "      <td>https://newhaven.craigslist.org/cto/d/stratfor...</td>\n",
       "      <td>new haven</td>\n",
       "      <td>https://newhaven.craigslist.org</td>\n",
       "      <td>10900</td>\n",
       "      <td>2013.0</td>\n",
       "      <td>toyota</td>\n",
       "      <td>prius</td>\n",
       "      <td>good</td>\n",
       "      <td>4 cylinders</td>\n",
       "      <td>...</td>\n",
       "      <td>fwd</td>\n",
       "      <td>NaN</td>\n",
       "      <td>NaN</td>\n",
       "      <td>blue</td>\n",
       "      <td>https://images.craigslist.org/00d0d_3sHGxPbY2O...</td>\n",
       "      <td>2013 Prius V Model Two. One owner—must sell my...</td>\n",
       "      <td>NaN</td>\n",
       "      <td>ct</td>\n",
       "      <td>41.1770</td>\n",
       "      <td>-73.1336</td>\n",
       "    </tr>\n",
       "  </tbody>\n",
       "</table>\n",
       "<p>3 rows × 25 columns</p>\n",
       "</div>"
      ],
      "text/plain": [
       "           id                                                url  \\\n",
       "0  7184791621  https://duluth.craigslist.org/ctd/d/duluth-200...   \n",
       "1  7184773187  https://duluth.craigslist.org/cto/d/saginaw-20...   \n",
       "2  7193375964  https://newhaven.craigslist.org/cto/d/stratfor...   \n",
       "\n",
       "              region                       region_url  price    year  \\\n",
       "0  duluth / superior    https://duluth.craigslist.org   6995  2000.0   \n",
       "1  duluth / superior    https://duluth.craigslist.org   8750  2013.0   \n",
       "2          new haven  https://newhaven.craigslist.org  10900  2013.0   \n",
       "\n",
       "  manufacturer            model  condition    cylinders  ... drive  size type  \\\n",
       "0          gmc  new sierra 1500  excellent  8 cylinders  ...   4wd   NaN  NaN   \n",
       "1      hyundai           sonata  excellent  4 cylinders  ...   fwd   NaN  NaN   \n",
       "2       toyota            prius       good  4 cylinders  ...   fwd   NaN  NaN   \n",
       "\n",
       "  paint_color                                          image_url  \\\n",
       "0         red  https://images.craigslist.org/00n0n_f06ykBMcdh...   \n",
       "1        grey  https://images.craigslist.org/00d0d_kgZ6xoeRw2...   \n",
       "2        blue  https://images.craigslist.org/00d0d_3sHGxPbY2O...   \n",
       "\n",
       "                                         description county state      lat  \\\n",
       "0  2000 *** GMC New Sierra 1500 Ext Cab 157.5  WB...    NaN    mn  46.8433   \n",
       "1  For Sale:  2013 Hyundai Sonata GLS - $8750.  O...    NaN    mn  46.9074   \n",
       "2  2013 Prius V Model Two. One owner—must sell my...    NaN    ct  41.1770   \n",
       "\n",
       "      long  \n",
       "0 -92.2550  \n",
       "1 -92.4638  \n",
       "2 -73.1336  \n",
       "\n",
       "[3 rows x 25 columns]"
      ]
     },
     "execution_count": 4,
     "metadata": {},
     "output_type": "execute_result"
    }
   ],
   "source": [
    "#check what the data head looks like\n",
    "df.head(3)"
   ]
  },
  {
   "cell_type": "code",
   "execution_count": 5,
   "metadata": {},
   "outputs": [
    {
     "data": {
      "text/html": [
       "<div>\n",
       "<style scoped>\n",
       "    .dataframe tbody tr th:only-of-type {\n",
       "        vertical-align: middle;\n",
       "    }\n",
       "\n",
       "    .dataframe tbody tr th {\n",
       "        vertical-align: top;\n",
       "    }\n",
       "\n",
       "    .dataframe thead th {\n",
       "        text-align: right;\n",
       "    }\n",
       "</style>\n",
       "<table border=\"1\" class=\"dataframe\">\n",
       "  <thead>\n",
       "    <tr style=\"text-align: right;\">\n",
       "      <th></th>\n",
       "      <th>id</th>\n",
       "      <th>price</th>\n",
       "      <th>year</th>\n",
       "      <th>odometer</th>\n",
       "      <th>county</th>\n",
       "      <th>lat</th>\n",
       "      <th>long</th>\n",
       "    </tr>\n",
       "  </thead>\n",
       "  <tbody>\n",
       "    <tr>\n",
       "      <th>count</th>\n",
       "      <td>4.238570e+05</td>\n",
       "      <td>4.238570e+05</td>\n",
       "      <td>328743.000000</td>\n",
       "      <td>2.705850e+05</td>\n",
       "      <td>0.0</td>\n",
       "      <td>324404.000000</td>\n",
       "      <td>324404.000000</td>\n",
       "    </tr>\n",
       "    <tr>\n",
       "      <th>mean</th>\n",
       "      <td>7.190602e+09</td>\n",
       "      <td>5.779437e+04</td>\n",
       "      <td>2009.827358</td>\n",
       "      <td>9.942578e+04</td>\n",
       "      <td>NaN</td>\n",
       "      <td>38.731429</td>\n",
       "      <td>-93.949367</td>\n",
       "    </tr>\n",
       "    <tr>\n",
       "      <th>std</th>\n",
       "      <td>5.159269e+06</td>\n",
       "      <td>1.002581e+07</td>\n",
       "      <td>10.135809</td>\n",
       "      <td>1.204833e+05</td>\n",
       "      <td>NaN</td>\n",
       "      <td>5.902977</td>\n",
       "      <td>17.930566</td>\n",
       "    </tr>\n",
       "    <tr>\n",
       "      <th>min</th>\n",
       "      <td>7.178302e+09</td>\n",
       "      <td>0.000000e+00</td>\n",
       "      <td>1900.000000</td>\n",
       "      <td>0.000000e+00</td>\n",
       "      <td>NaN</td>\n",
       "      <td>-80.386400</td>\n",
       "      <td>-161.394000</td>\n",
       "    </tr>\n",
       "    <tr>\n",
       "      <th>25%</th>\n",
       "      <td>7.186688e+09</td>\n",
       "      <td>4.499000e+03</td>\n",
       "      <td>2007.000000</td>\n",
       "      <td>4.432400e+04</td>\n",
       "      <td>NaN</td>\n",
       "      <td>35.054500</td>\n",
       "      <td>-106.678000</td>\n",
       "    </tr>\n",
       "    <tr>\n",
       "      <th>50%</th>\n",
       "      <td>7.192068e+09</td>\n",
       "      <td>9.995000e+03</td>\n",
       "      <td>2012.000000</td>\n",
       "      <td>9.174900e+04</td>\n",
       "      <td>NaN</td>\n",
       "      <td>39.366900</td>\n",
       "      <td>-88.009900</td>\n",
       "    </tr>\n",
       "    <tr>\n",
       "      <th>75%</th>\n",
       "      <td>7.194909e+09</td>\n",
       "      <td>1.899500e+04</td>\n",
       "      <td>2016.000000</td>\n",
       "      <td>1.372370e+05</td>\n",
       "      <td>NaN</td>\n",
       "      <td>42.517075</td>\n",
       "      <td>-80.832500</td>\n",
       "    </tr>\n",
       "    <tr>\n",
       "      <th>max</th>\n",
       "      <td>7.197006e+09</td>\n",
       "      <td>3.808256e+09</td>\n",
       "      <td>2021.000000</td>\n",
       "      <td>1.000000e+07</td>\n",
       "      <td>NaN</td>\n",
       "      <td>80.383400</td>\n",
       "      <td>115.524000</td>\n",
       "    </tr>\n",
       "  </tbody>\n",
       "</table>\n",
       "</div>"
      ],
      "text/plain": [
       "                 id         price           year      odometer  county  \\\n",
       "count  4.238570e+05  4.238570e+05  328743.000000  2.705850e+05     0.0   \n",
       "mean   7.190602e+09  5.779437e+04    2009.827358  9.942578e+04     NaN   \n",
       "std    5.159269e+06  1.002581e+07      10.135809  1.204833e+05     NaN   \n",
       "min    7.178302e+09  0.000000e+00    1900.000000  0.000000e+00     NaN   \n",
       "25%    7.186688e+09  4.499000e+03    2007.000000  4.432400e+04     NaN   \n",
       "50%    7.192068e+09  9.995000e+03    2012.000000  9.174900e+04     NaN   \n",
       "75%    7.194909e+09  1.899500e+04    2016.000000  1.372370e+05     NaN   \n",
       "max    7.197006e+09  3.808256e+09    2021.000000  1.000000e+07     NaN   \n",
       "\n",
       "                 lat           long  \n",
       "count  324404.000000  324404.000000  \n",
       "mean       38.731429     -93.949367  \n",
       "std         5.902977      17.930566  \n",
       "min       -80.386400    -161.394000  \n",
       "25%        35.054500    -106.678000  \n",
       "50%        39.366900     -88.009900  \n",
       "75%        42.517075     -80.832500  \n",
       "max        80.383400     115.524000  "
      ]
     },
     "execution_count": 5,
     "metadata": {},
     "output_type": "execute_result"
    }
   ],
   "source": [
    "#view descriptive statistics from numerical columns\n",
    "df.describe()"
   ]
  },
  {
   "cell_type": "markdown",
   "metadata": {},
   "source": [
    "Not all the data will be relevant to the current business model. Taking a look at the minimum odometer reading tells us that there is at least one new car in the data, which might affect our model for used car prices. **So, consider dropping the rows with 0 miles in 'odometer'** \n",
    "\n",
    "The min and max values in 'price' are 0 and 3808256046 respectively. Such a high price makes me think this is a typo. We can either try to find the data manually from its source to check or **drop anything over 500,000 dollars completely**. Similarly, **we will drop any vehicles that have a price under 100 dollars for consistency.**\n",
    "\n",
    "The 'year' column has a max value of 2021, which tells us that it is a new car because it is next year's date. To correct for this new car, we will **drop the rows with a year of 2021.** Similarly, the scope of this project only involves vehicles 30 years old or younger. Consequently, we will drop any irrelevant data by **dropping all rows that have a year less than 1990.**"
   ]
  },
  {
   "cell_type": "code",
   "execution_count": 15,
   "metadata": {},
   "outputs": [
    {
     "data": {
      "text/plain": [
       "Index(['id', 'url', 'region', 'region_url', 'price', 'year', 'manufacturer',\n",
       "       'model', 'condition', 'cylinders', 'fuel', 'odometer', 'title_status',\n",
       "       'transmission', 'vin', 'drive', 'size', 'type', 'paint_color',\n",
       "       'image_url', 'description', 'county', 'state', 'lat', 'long'],\n",
       "      dtype='object')"
      ]
     },
     "execution_count": 15,
     "metadata": {},
     "output_type": "execute_result"
    }
   ],
   "source": [
    "#view a list of the column names\n",
    "df.columns"
   ]
  },
  {
   "cell_type": "code",
   "execution_count": 7,
   "metadata": {},
   "outputs": [
    {
     "data": {
      "text/plain": [
       "id                int64\n",
       "url              object\n",
       "region           object\n",
       "region_url       object\n",
       "price             int64\n",
       "year            float64\n",
       "manufacturer     object\n",
       "model            object\n",
       "condition        object\n",
       "cylinders        object\n",
       "fuel             object\n",
       "odometer        float64\n",
       "title_status     object\n",
       "transmission     object\n",
       "vin              object\n",
       "drive            object\n",
       "size             object\n",
       "type             object\n",
       "paint_color      object\n",
       "image_url        object\n",
       "description      object\n",
       "county          float64\n",
       "state            object\n",
       "lat             float64\n",
       "long            float64\n",
       "dtype: object"
      ]
     },
     "execution_count": 7,
     "metadata": {},
     "output_type": "execute_result"
    }
   ],
   "source": [
    "#check the types of data for each column\n",
    "df.dtypes"
   ]
  },
  {
   "cell_type": "markdown",
   "metadata": {},
   "source": [
    "Looking at the types of data per column gives insight to how we will manipulate the data. Also, we can anticipate needing dummy variables in out preprocessing phase later. \n",
    "\n",
    "Cylinders is currently an object (string), but it may be more sensible to convert this to an int64."
   ]
  },
  {
   "cell_type": "code",
   "execution_count": 12,
   "metadata": {},
   "outputs": [
    {
     "data": {
      "text/plain": [
       "id                   0\n",
       "url                  0\n",
       "region               0\n",
       "region_url           0\n",
       "price                0\n",
       "year             95114\n",
       "manufacturer    110615\n",
       "model            98473\n",
       "condition       247138\n",
       "cylinders       226178\n",
       "fuel             96643\n",
       "odometer        153272\n",
       "title_status     96098\n",
       "transmission     95792\n",
       "vin             239437\n",
       "drive           192738\n",
       "size            321230\n",
       "type            182700\n",
       "paint_color     201654\n",
       "image_url        94196\n",
       "description      94203\n",
       "county          423857\n",
       "state                0\n",
       "lat              99453\n",
       "long             99453\n",
       "dtype: int64"
      ]
     },
     "execution_count": 12,
     "metadata": {},
     "output_type": "execute_result"
    }
   ],
   "source": [
    "#check for empty values\n",
    "df.isnull().sum()"
   ]
  },
  {
   "cell_type": "code",
   "execution_count": 31,
   "metadata": {},
   "outputs": [
    {
     "data": {
      "text/plain": [
       "<AxesSubplot:>"
      ]
     },
     "execution_count": 31,
     "metadata": {},
     "output_type": "execute_result"
    },
    {
     "data": {
      "image/png": "[encoded data removed]",
      "text/plain": [
       "<Figure size 1440x720 with 2 Axes>"
      ]
     },
     "metadata": {
      "needs_background": "light"
     },
     "output_type": "display_data"
    }
   ],
   "source": [
    "#set the size of the plot to make it easier to view\n",
    "plt.figure(figsize=(20,10))\n",
    "\n",
    "#use seaborn's heatmap to visualize where the null values are\n",
    "sns.heatmap(df.isnull())"
   ]
  },
  {
   "cell_type": "markdown",
   "metadata": {},
   "source": [
    "**There is a lot of missing data in this dataset.** Once we explore the data and understand more about how the columns correlate, we will be able to make an informed decision on what to do. **Some options include deleting entire rows and imputing with mean or other stats.**  \n",
    "\n",
    "County does not have any values in it. **Does the county column add any value?** \n",
    "\n",
    "**These columns have the most missing values: condition, cylinders, vin, drive, size, type, paint_color, and county.**"
   ]
  },
  {
   "cell_type": "code",
   "execution_count": 55,
   "metadata": {},
   "outputs": [
    {
     "data": {
      "text/plain": [
       "f-150                                         6073\n",
       "silverado 1500                                3878\n",
       "escape                                        3208\n",
       "camry                                         2906\n",
       "1500                                          2898\n",
       "                                              ... \n",
       "1500 classic warlock 4x4 crew cab 5'7\" box       1\n",
       "3500 drw cummins                                 1\n",
       "civic del sol si                                 1\n",
       "Olds 98 Regency                                  1\n",
       "x5 4.8is                                         1\n",
       "Name: model, Length: 27042, dtype: int64"
      ]
     },
     "execution_count": 55,
     "metadata": {},
     "output_type": "execute_result"
    }
   ],
   "source": [
    "#check for unique models\n",
    "df['model'].value_counts()"
   ]
  },
  {
   "cell_type": "markdown",
   "metadata": {},
   "source": [
    "Wow. The model column is messy. **We will need to tidy up this column.** At this time, we will only briefly mention that we will need NLP to handle this task so that we can account for misspelled words with the string similarity tool from NLP. In the meantime, we will continue without this column holding any weight in our analysis. "
   ]
  },
  {
   "cell_type": "code",
   "execution_count": 54,
   "metadata": {},
   "outputs": [
    {
     "data": {
      "text/plain": [
       "fort smith, AR            1\n",
       "st louis                  5\n",
       "west virginia (old)      14\n",
       "kansas city              15\n",
       "meridian                 22\n",
       "                       ... \n",
       "salem                  2985\n",
       "rochester              3087\n",
       "jacksonville           3284\n",
       "springfield            3294\n",
       "columbus               3296\n",
       "Name: region, Length: 404, dtype: int64"
      ]
     },
     "execution_count": 54,
     "metadata": {},
     "output_type": "execute_result"
    }
   ],
   "source": [
    "#check for unique models\n",
    "df['region'].value_counts().sort_values()"
   ]
  },
  {
   "cell_type": "markdown",
   "metadata": {},
   "source": [
    "There is some inconsistency with 'region'. Some of the values are cities, while others are city and state or less specific regions like 'central NJ'. This doesn't appear to be a problem for our model at this time. "
   ]
  },
  {
   "cell_type": "code",
   "execution_count": 62,
   "metadata": {},
   "outputs": [
    {
     "name": "stdout",
     "output_type": "stream",
     "text": [
      "No duplicates!\n"
     ]
    }
   ],
   "source": [
    "#check for duplicates\n",
    "if df.duplicated().sum() == 0:\n",
    "    print('No duplicates!')\n",
    "else:\n",
    "    df.duplicated().sum()"
   ]
  },
  {
   "cell_type": "code",
   "execution_count": 68,
   "metadata": {},
   "outputs": [
    {
     "data": {
      "text/html": [
       "<div>\n",
       "<style scoped>\n",
       "    .dataframe tbody tr th:only-of-type {\n",
       "        vertical-align: middle;\n",
       "    }\n",
       "\n",
       "    .dataframe tbody tr th {\n",
       "        vertical-align: top;\n",
       "    }\n",
       "\n",
       "    .dataframe thead th {\n",
       "        text-align: right;\n",
       "    }\n",
       "</style>\n",
       "<table border=\"1\" class=\"dataframe\">\n",
       "  <thead>\n",
       "    <tr style=\"text-align: right;\">\n",
       "      <th></th>\n",
       "      <th>id</th>\n",
       "      <th>price</th>\n",
       "      <th>year</th>\n",
       "      <th>odometer</th>\n",
       "      <th>county</th>\n",
       "      <th>lat</th>\n",
       "      <th>long</th>\n",
       "    </tr>\n",
       "  </thead>\n",
       "  <tbody>\n",
       "    <tr>\n",
       "      <th>count</th>\n",
       "      <td>3.673810e+05</td>\n",
       "      <td>367381.00000</td>\n",
       "      <td>280346.000000</td>\n",
       "      <td>2.358140e+05</td>\n",
       "      <td>0.0</td>\n",
       "      <td>279343.000000</td>\n",
       "      <td>279343.000000</td>\n",
       "    </tr>\n",
       "    <tr>\n",
       "      <th>mean</th>\n",
       "      <td>7.190709e+09</td>\n",
       "      <td>15043.18888</td>\n",
       "      <td>2011.059141</td>\n",
       "      <td>1.042051e+05</td>\n",
       "      <td>NaN</td>\n",
       "      <td>38.788533</td>\n",
       "      <td>-93.790007</td>\n",
       "    </tr>\n",
       "    <tr>\n",
       "      <th>std</th>\n",
       "      <td>5.157905e+06</td>\n",
       "      <td>13701.66971</td>\n",
       "      <td>5.891999</td>\n",
       "      <td>1.101406e+05</td>\n",
       "      <td>NaN</td>\n",
       "      <td>5.944142</td>\n",
       "      <td>17.833631</td>\n",
       "    </tr>\n",
       "    <tr>\n",
       "      <th>min</th>\n",
       "      <td>7.178302e+09</td>\n",
       "      <td>101.00000</td>\n",
       "      <td>1990.000000</td>\n",
       "      <td>5.000000e+03</td>\n",
       "      <td>NaN</td>\n",
       "      <td>-80.386400</td>\n",
       "      <td>-161.394000</td>\n",
       "    </tr>\n",
       "    <tr>\n",
       "      <th>25%</th>\n",
       "      <td>7.186855e+09</td>\n",
       "      <td>5950.00000</td>\n",
       "      <td>2007.000000</td>\n",
       "      <td>5.048800e+04</td>\n",
       "      <td>NaN</td>\n",
       "      <td>35.083750</td>\n",
       "      <td>-106.522000</td>\n",
       "    </tr>\n",
       "    <tr>\n",
       "      <th>50%</th>\n",
       "      <td>7.192309e+09</td>\n",
       "      <td>11495.00000</td>\n",
       "      <td>2012.000000</td>\n",
       "      <td>9.624200e+04</td>\n",
       "      <td>NaN</td>\n",
       "      <td>39.494500</td>\n",
       "      <td>-87.843300</td>\n",
       "    </tr>\n",
       "    <tr>\n",
       "      <th>75%</th>\n",
       "      <td>7.195000e+09</td>\n",
       "      <td>19990.00000</td>\n",
       "      <td>2016.000000</td>\n",
       "      <td>1.415875e+05</td>\n",
       "      <td>NaN</td>\n",
       "      <td>42.586550</td>\n",
       "      <td>-80.958900</td>\n",
       "    </tr>\n",
       "    <tr>\n",
       "      <th>max</th>\n",
       "      <td>7.197006e+09</td>\n",
       "      <td>479500.00000</td>\n",
       "      <td>2020.000000</td>\n",
       "      <td>1.000000e+07</td>\n",
       "      <td>NaN</td>\n",
       "      <td>80.383400</td>\n",
       "      <td>115.524000</td>\n",
       "    </tr>\n",
       "  </tbody>\n",
       "</table>\n",
       "</div>"
      ],
      "text/plain": [
       "                 id         price           year      odometer  county  \\\n",
       "count  3.673810e+05  367381.00000  280346.000000  2.358140e+05     0.0   \n",
       "mean   7.190709e+09   15043.18888    2011.059141  1.042051e+05     NaN   \n",
       "std    5.157905e+06   13701.66971       5.891999  1.101406e+05     NaN   \n",
       "min    7.178302e+09     101.00000    1990.000000  5.000000e+03     NaN   \n",
       "25%    7.186855e+09    5950.00000    2007.000000  5.048800e+04     NaN   \n",
       "50%    7.192309e+09   11495.00000    2012.000000  9.624200e+04     NaN   \n",
       "75%    7.195000e+09   19990.00000    2016.000000  1.415875e+05     NaN   \n",
       "max    7.197006e+09  479500.00000    2020.000000  1.000000e+07     NaN   \n",
       "\n",
       "                 lat           long  \n",
       "count  279343.000000  279343.000000  \n",
       "mean       38.788533     -93.790007  \n",
       "std         5.944142      17.833631  \n",
       "min       -80.386400    -161.394000  \n",
       "25%        35.083750    -106.522000  \n",
       "50%        39.494500     -87.843300  \n",
       "75%        42.586550     -80.958900  \n",
       "max        80.383400     115.524000  "
      ]
     },
     "execution_count": 68,
     "metadata": {},
     "output_type": "execute_result"
    }
   ],
   "source": [
    "#define the conditions to drop\n",
    "zero_odometer = df['odometer']<5000\n",
    "max_price = df['price']>=500000\n",
    "min_price = df['price']<=100\n",
    "future_year = df['year']==2021\n",
    "min_year = df['year']<1990\n",
    "\n",
    "#drop those conditions\n",
    "dropped_df = df.drop(df.loc[zero_odometer|max_price|min_price|future_year|min_year].index)\n",
    "\n",
    "dropped_df.describe()"
   ]
  },
  {
   "cell_type": "code",
   "execution_count": 92,
   "metadata": {},
   "outputs": [
    {
     "data": {
      "text/plain": [
       "{'county'}"
      ]
     },
     "execution_count": 92,
     "metadata": {},
     "output_type": "execute_result"
    }
   ],
   "source": [
    "#drop county column\n",
    "#this command is commented out because if it gets run twice then there is an error.\n",
    "#dropped_df.drop(columns=['county'], inplace=True)\n",
    "\n",
    "#check if county column dropped\n",
    "set(dropped_df.columns).symmetric_difference(set(df.columns))"
   ]
  },
  {
   "cell_type": "code",
   "execution_count": null,
   "metadata": {},
   "outputs": [],
   "source": []
  },
  {
   "cell_type": "code",
   "execution_count": null,
   "metadata": {},
   "outputs": [],
   "source": []
  },
  {
   "cell_type": "code",
   "execution_count": 85,
   "metadata": {},
   "outputs": [],
   "source": []
  },
  {
   "cell_type": "code",
   "execution_count": null,
   "metadata": {},
   "outputs": [],
   "source": []
  },
  {
   "cell_type": "code",
   "execution_count": null,
   "metadata": {},
   "outputs": [],
   "source": [
    "\n"
   ]
  },
  {
   "cell_type": "code",
   "execution_count": null,
   "metadata": {},
   "outputs": [],
   "source": []
  },
  {
   "cell_type": "code",
   "execution_count": null,
   "metadata": {},
   "outputs": [],
   "source": []
  },
  {
   "cell_type": "code",
   "execution_count": null,
   "metadata": {},
   "outputs": [],
   "source": []
  },
  {
   "cell_type": "code",
   "execution_count": null,
   "metadata": {},
   "outputs": [],
   "source": []
  }
 ],
 "metadata": {
  "kernelspec": {
   "display_name": "Python 3",
   "language": "python",
   "name": "python3"
  },
  "language_info": {
   "codemirror_mode": {
    "name": "ipython",
    "version": 3
   },
   "file_extension": ".py",
   "mimetype": "text/x-python",
   "name": "python",
   "nbconvert_exporter": "python",
   "pygments_lexer": "ipython3",
   "version": "3.7.3"
  }
 },
 "nbformat": 4,
 "nbformat_minor": 4
}
