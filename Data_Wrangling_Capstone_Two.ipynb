{
 "cells": [
  {
   "cell_type": "markdown",
   "metadata": {},
   "source": [
    "## Data Wrangling\n",
    "### Contents\n",
    "#### <a href=\"#Import\"> Import </a>\n",
    "#### <a href=\"#Discovery\"> Initial Discovery </a> \n",
    "#### <a href=\"#Duplicates\"> Check for Duplicates </a>\n",
    "#### <a href=\"#VIN\"> Fill Empty 'Year' Values by VIN Number </a>\n",
    "#### <a href=\"#Drop\"> Drop Special Conditions </a>\n",
    "#### <a href=\"#KNN\"> KNN Impute Missing Values </a>\n",
    "#### <a href=\"#Fillna\"> Custom Fill Missing Values </a>\n",
    "#### <a href=\"#Simple\"> Simple Imputer </a>\n",
    "#### <a href=\"#Conclusion\"> Data Wrangling Conclusion </a>"
   ]
  },
  {
   "cell_type": "markdown",
   "metadata": {},
   "source": [
    "### <span id=\"Import\"> Import </span>"
   ]
  },
  {
   "cell_type": "code",
   "execution_count": 1,
   "metadata": {},
   "outputs": [],
   "source": [
    "#import the appropriate dependencies\n",
    "import pandas as pd\n",
    "import numpy as np\n",
    "\n",
    "import seaborn as sns\n",
    "import matplotlib.pyplot as plt\n",
    "\n",
    "from sklearn.impute import KNNImputer\n",
    "from sklearn.impute import SimpleImputer"
   ]
  },
  {
   "cell_type": "code",
   "execution_count": 2,
   "metadata": {},
   "outputs": [],
   "source": [
    "#import the data into a dataframe: df\n",
    "# download the data from 'https://www.kaggle.com/austinreese/craigslist-carstrucks-data?select=vehicles.csv'\n",
    "\n",
    "csv_file = './data/vehicles.csv'\n",
    "\n",
    "df = pd.read_csv(csv_file)"
   ]
  },
  {
   "cell_type": "markdown",
   "metadata": {},
   "source": [
    "### <span id=\"Discovery\"> Initial Discovery </span>"
   ]
  },
  {
   "cell_type": "code",
   "execution_count": 78,
   "metadata": {},
   "outputs": [
    {
     "data": {
      "text/plain": [
       "(423857, 26)"
      ]
     },
     "execution_count": 78,
     "metadata": {},
     "output_type": "execute_result"
    }
   ],
   "source": [
    "df.shape"
   ]
  },
  {
   "cell_type": "code",
   "execution_count": 3,
   "metadata": {},
   "outputs": [
    {
     "data": {
      "text/html": [
       "<div>\n",
       "<style scoped>\n",
       "    .dataframe tbody tr th:only-of-type {\n",
       "        vertical-align: middle;\n",
       "    }\n",
       "\n",
       "    .dataframe tbody tr th {\n",
       "        vertical-align: top;\n",
       "    }\n",
       "\n",
       "    .dataframe thead th {\n",
       "        text-align: right;\n",
       "    }\n",
       "</style>\n",
       "<table border=\"1\" class=\"dataframe\">\n",
       "  <thead>\n",
       "    <tr style=\"text-align: right;\">\n",
       "      <th></th>\n",
       "      <th>id</th>\n",
       "      <th>url</th>\n",
       "      <th>region</th>\n",
       "      <th>region_url</th>\n",
       "      <th>price</th>\n",
       "      <th>year</th>\n",
       "      <th>manufacturer</th>\n",
       "      <th>model</th>\n",
       "      <th>condition</th>\n",
       "      <th>cylinders</th>\n",
       "      <th>...</th>\n",
       "      <th>drive</th>\n",
       "      <th>size</th>\n",
       "      <th>type</th>\n",
       "      <th>paint_color</th>\n",
       "      <th>image_url</th>\n",
       "      <th>description</th>\n",
       "      <th>county</th>\n",
       "      <th>state</th>\n",
       "      <th>lat</th>\n",
       "      <th>long</th>\n",
       "    </tr>\n",
       "  </thead>\n",
       "  <tbody>\n",
       "    <tr>\n",
       "      <th>0</th>\n",
       "      <td>7184791621</td>\n",
       "      <td>https://duluth.craigslist.org/ctd/d/duluth-200...</td>\n",
       "      <td>duluth / superior</td>\n",
       "      <td>https://duluth.craigslist.org</td>\n",
       "      <td>6995</td>\n",
       "      <td>2000.0</td>\n",
       "      <td>gmc</td>\n",
       "      <td>new sierra 1500</td>\n",
       "      <td>excellent</td>\n",
       "      <td>8 cylinders</td>\n",
       "      <td>...</td>\n",
       "      <td>4wd</td>\n",
       "      <td>NaN</td>\n",
       "      <td>NaN</td>\n",
       "      <td>red</td>\n",
       "      <td>https://images.craigslist.org/00n0n_f06ykBMcdh...</td>\n",
       "      <td>2000 *** GMC New Sierra 1500 Ext Cab 157.5  WB...</td>\n",
       "      <td>NaN</td>\n",
       "      <td>mn</td>\n",
       "      <td>46.8433</td>\n",
       "      <td>-92.2550</td>\n",
       "    </tr>\n",
       "    <tr>\n",
       "      <th>1</th>\n",
       "      <td>7184773187</td>\n",
       "      <td>https://duluth.craigslist.org/cto/d/saginaw-20...</td>\n",
       "      <td>duluth / superior</td>\n",
       "      <td>https://duluth.craigslist.org</td>\n",
       "      <td>8750</td>\n",
       "      <td>2013.0</td>\n",
       "      <td>hyundai</td>\n",
       "      <td>sonata</td>\n",
       "      <td>excellent</td>\n",
       "      <td>4 cylinders</td>\n",
       "      <td>...</td>\n",
       "      <td>fwd</td>\n",
       "      <td>NaN</td>\n",
       "      <td>NaN</td>\n",
       "      <td>grey</td>\n",
       "      <td>https://images.craigslist.org/00d0d_kgZ6xoeRw2...</td>\n",
       "      <td>For Sale:  2013 Hyundai Sonata GLS - $8750.  O...</td>\n",
       "      <td>NaN</td>\n",
       "      <td>mn</td>\n",
       "      <td>46.9074</td>\n",
       "      <td>-92.4638</td>\n",
       "    </tr>\n",
       "    <tr>\n",
       "      <th>2</th>\n",
       "      <td>7193375964</td>\n",
       "      <td>https://newhaven.craigslist.org/cto/d/stratfor...</td>\n",
       "      <td>new haven</td>\n",
       "      <td>https://newhaven.craigslist.org</td>\n",
       "      <td>10900</td>\n",
       "      <td>2013.0</td>\n",
       "      <td>toyota</td>\n",
       "      <td>prius</td>\n",
       "      <td>good</td>\n",
       "      <td>4 cylinders</td>\n",
       "      <td>...</td>\n",
       "      <td>fwd</td>\n",
       "      <td>NaN</td>\n",
       "      <td>NaN</td>\n",
       "      <td>blue</td>\n",
       "      <td>https://images.craigslist.org/00d0d_3sHGxPbY2O...</td>\n",
       "      <td>2013 Prius V Model Two. One owner—must sell my...</td>\n",
       "      <td>NaN</td>\n",
       "      <td>ct</td>\n",
       "      <td>41.1770</td>\n",
       "      <td>-73.1336</td>\n",
       "    </tr>\n",
       "  </tbody>\n",
       "</table>\n",
       "<p>3 rows × 25 columns</p>\n",
       "</div>"
      ],
      "text/plain": [
       "           id                                                url  \\\n",
       "0  7184791621  https://duluth.craigslist.org/ctd/d/duluth-200...   \n",
       "1  7184773187  https://duluth.craigslist.org/cto/d/saginaw-20...   \n",
       "2  7193375964  https://newhaven.craigslist.org/cto/d/stratfor...   \n",
       "\n",
       "              region                       region_url  price    year  \\\n",
       "0  duluth / superior    https://duluth.craigslist.org   6995  2000.0   \n",
       "1  duluth / superior    https://duluth.craigslist.org   8750  2013.0   \n",
       "2          new haven  https://newhaven.craigslist.org  10900  2013.0   \n",
       "\n",
       "  manufacturer            model  condition    cylinders  ... drive  size type  \\\n",
       "0          gmc  new sierra 1500  excellent  8 cylinders  ...   4wd   NaN  NaN   \n",
       "1      hyundai           sonata  excellent  4 cylinders  ...   fwd   NaN  NaN   \n",
       "2       toyota            prius       good  4 cylinders  ...   fwd   NaN  NaN   \n",
       "\n",
       "  paint_color                                          image_url  \\\n",
       "0         red  https://images.craigslist.org/00n0n_f06ykBMcdh...   \n",
       "1        grey  https://images.craigslist.org/00d0d_kgZ6xoeRw2...   \n",
       "2        blue  https://images.craigslist.org/00d0d_3sHGxPbY2O...   \n",
       "\n",
       "                                         description county state      lat  \\\n",
       "0  2000 *** GMC New Sierra 1500 Ext Cab 157.5  WB...    NaN    mn  46.8433   \n",
       "1  For Sale:  2013 Hyundai Sonata GLS - $8750.  O...    NaN    mn  46.9074   \n",
       "2  2013 Prius V Model Two. One owner—must sell my...    NaN    ct  41.1770   \n",
       "\n",
       "      long  \n",
       "0 -92.2550  \n",
       "1 -92.4638  \n",
       "2 -73.1336  \n",
       "\n",
       "[3 rows x 25 columns]"
      ]
     },
     "execution_count": 3,
     "metadata": {},
     "output_type": "execute_result"
    }
   ],
   "source": [
    "#check what the data head looks like\n",
    "df.head(3)"
   ]
  },
  {
   "cell_type": "code",
   "execution_count": 4,
   "metadata": {},
   "outputs": [
    {
     "data": {
      "text/html": [
       "<div>\n",
       "<style scoped>\n",
       "    .dataframe tbody tr th:only-of-type {\n",
       "        vertical-align: middle;\n",
       "    }\n",
       "\n",
       "    .dataframe tbody tr th {\n",
       "        vertical-align: top;\n",
       "    }\n",
       "\n",
       "    .dataframe thead th {\n",
       "        text-align: right;\n",
       "    }\n",
       "</style>\n",
       "<table border=\"1\" class=\"dataframe\">\n",
       "  <thead>\n",
       "    <tr style=\"text-align: right;\">\n",
       "      <th></th>\n",
       "      <th>id</th>\n",
       "      <th>price</th>\n",
       "      <th>year</th>\n",
       "      <th>odometer</th>\n",
       "      <th>county</th>\n",
       "      <th>lat</th>\n",
       "      <th>long</th>\n",
       "    </tr>\n",
       "  </thead>\n",
       "  <tbody>\n",
       "    <tr>\n",
       "      <th>count</th>\n",
       "      <td>4.238570e+05</td>\n",
       "      <td>4.238570e+05</td>\n",
       "      <td>328743.000000</td>\n",
       "      <td>2.705850e+05</td>\n",
       "      <td>0.0</td>\n",
       "      <td>324404.000000</td>\n",
       "      <td>324404.000000</td>\n",
       "    </tr>\n",
       "    <tr>\n",
       "      <th>mean</th>\n",
       "      <td>7.190602e+09</td>\n",
       "      <td>5.779437e+04</td>\n",
       "      <td>2009.827358</td>\n",
       "      <td>9.942578e+04</td>\n",
       "      <td>NaN</td>\n",
       "      <td>38.731429</td>\n",
       "      <td>-93.949367</td>\n",
       "    </tr>\n",
       "    <tr>\n",
       "      <th>std</th>\n",
       "      <td>5.159269e+06</td>\n",
       "      <td>1.002581e+07</td>\n",
       "      <td>10.135809</td>\n",
       "      <td>1.204833e+05</td>\n",
       "      <td>NaN</td>\n",
       "      <td>5.902977</td>\n",
       "      <td>17.930566</td>\n",
       "    </tr>\n",
       "    <tr>\n",
       "      <th>min</th>\n",
       "      <td>7.178302e+09</td>\n",
       "      <td>0.000000e+00</td>\n",
       "      <td>1900.000000</td>\n",
       "      <td>0.000000e+00</td>\n",
       "      <td>NaN</td>\n",
       "      <td>-80.386400</td>\n",
       "      <td>-161.394000</td>\n",
       "    </tr>\n",
       "    <tr>\n",
       "      <th>25%</th>\n",
       "      <td>7.186688e+09</td>\n",
       "      <td>4.499000e+03</td>\n",
       "      <td>2007.000000</td>\n",
       "      <td>4.432400e+04</td>\n",
       "      <td>NaN</td>\n",
       "      <td>35.054500</td>\n",
       "      <td>-106.678000</td>\n",
       "    </tr>\n",
       "    <tr>\n",
       "      <th>50%</th>\n",
       "      <td>7.192068e+09</td>\n",
       "      <td>9.995000e+03</td>\n",
       "      <td>2012.000000</td>\n",
       "      <td>9.174900e+04</td>\n",
       "      <td>NaN</td>\n",
       "      <td>39.366900</td>\n",
       "      <td>-88.009900</td>\n",
       "    </tr>\n",
       "    <tr>\n",
       "      <th>75%</th>\n",
       "      <td>7.194909e+09</td>\n",
       "      <td>1.899500e+04</td>\n",
       "      <td>2016.000000</td>\n",
       "      <td>1.372370e+05</td>\n",
       "      <td>NaN</td>\n",
       "      <td>42.517075</td>\n",
       "      <td>-80.832500</td>\n",
       "    </tr>\n",
       "    <tr>\n",
       "      <th>max</th>\n",
       "      <td>7.197006e+09</td>\n",
       "      <td>3.808256e+09</td>\n",
       "      <td>2021.000000</td>\n",
       "      <td>1.000000e+07</td>\n",
       "      <td>NaN</td>\n",
       "      <td>80.383400</td>\n",
       "      <td>115.524000</td>\n",
       "    </tr>\n",
       "  </tbody>\n",
       "</table>\n",
       "</div>"
      ],
      "text/plain": [
       "                 id         price           year      odometer  county  \\\n",
       "count  4.238570e+05  4.238570e+05  328743.000000  2.705850e+05     0.0   \n",
       "mean   7.190602e+09  5.779437e+04    2009.827358  9.942578e+04     NaN   \n",
       "std    5.159269e+06  1.002581e+07      10.135809  1.204833e+05     NaN   \n",
       "min    7.178302e+09  0.000000e+00    1900.000000  0.000000e+00     NaN   \n",
       "25%    7.186688e+09  4.499000e+03    2007.000000  4.432400e+04     NaN   \n",
       "50%    7.192068e+09  9.995000e+03    2012.000000  9.174900e+04     NaN   \n",
       "75%    7.194909e+09  1.899500e+04    2016.000000  1.372370e+05     NaN   \n",
       "max    7.197006e+09  3.808256e+09    2021.000000  1.000000e+07     NaN   \n",
       "\n",
       "                 lat           long  \n",
       "count  324404.000000  324404.000000  \n",
       "mean       38.731429     -93.949367  \n",
       "std         5.902977      17.930566  \n",
       "min       -80.386400    -161.394000  \n",
       "25%        35.054500    -106.678000  \n",
       "50%        39.366900     -88.009900  \n",
       "75%        42.517075     -80.832500  \n",
       "max        80.383400     115.524000  "
      ]
     },
     "execution_count": 4,
     "metadata": {},
     "output_type": "execute_result"
    }
   ],
   "source": [
    "#view descriptive statistics from numerical columns\n",
    "df.describe()"
   ]
  },
  {
   "cell_type": "markdown",
   "metadata": {},
   "source": [
    "Not all the data will be relevant to the current business model. Taking a look at the minimum odometer reading tells us that there is at least one new car in the data, which might affect our model for used car prices. **So, consider dropping the rows with 0 miles in 'odometer'** \n",
    "\n",
    "The min and max values in 'price' are 0 and 3808256046 respectively. Such a high price makes me think this is a typo. We can either try to find the data manually from its source to check or **drop anything over 500,000 dollars completely**. Similarly, **we will drop any vehicles that have a price under 100 dollars for consistency.**\n",
    "\n",
    "The 'year' column has a max value of 2021, which tells us that it is a new car because it is next year's date. To correct for this new car, we will **drop the rows with a year of 2021.** Similarly, the scope of this project only involves vehicles 30 years old or younger. Consequently, we will drop any irrelevant data by **dropping all rows that have a year less than 1990.**"
   ]
  },
  {
   "cell_type": "code",
   "execution_count": 5,
   "metadata": {},
   "outputs": [
    {
     "data": {
      "text/plain": [
       "Index(['id', 'url', 'region', 'region_url', 'price', 'year', 'manufacturer',\n",
       "       'model', 'condition', 'cylinders', 'fuel', 'odometer', 'title_status',\n",
       "       'transmission', 'vin', 'drive', 'size', 'type', 'paint_color',\n",
       "       'image_url', 'description', 'county', 'state', 'lat', 'long'],\n",
       "      dtype='object')"
      ]
     },
     "execution_count": 5,
     "metadata": {},
     "output_type": "execute_result"
    }
   ],
   "source": [
    "#view a list of the column names\n",
    "df.columns"
   ]
  },
  {
   "cell_type": "code",
   "execution_count": 6,
   "metadata": {},
   "outputs": [
    {
     "data": {
      "text/plain": [
       "id                int64\n",
       "url              object\n",
       "region           object\n",
       "region_url       object\n",
       "price             int64\n",
       "year            float64\n",
       "manufacturer     object\n",
       "model            object\n",
       "condition        object\n",
       "cylinders        object\n",
       "fuel             object\n",
       "odometer        float64\n",
       "title_status     object\n",
       "transmission     object\n",
       "vin              object\n",
       "drive            object\n",
       "size             object\n",
       "type             object\n",
       "paint_color      object\n",
       "image_url        object\n",
       "description      object\n",
       "county          float64\n",
       "state            object\n",
       "lat             float64\n",
       "long            float64\n",
       "dtype: object"
      ]
     },
     "execution_count": 6,
     "metadata": {},
     "output_type": "execute_result"
    }
   ],
   "source": [
    "#check the types of data for each column\n",
    "df.dtypes"
   ]
  },
  {
   "cell_type": "markdown",
   "metadata": {},
   "source": [
    "Looking at the types of data per column gives insight to how we will manipulate the data. Also, we can anticipate needing dummy variables in our preprocessing phase later. \n",
    "\n",
    "Cylinders is currently an object (string), but it may be more sensible to convert this to an int64."
   ]
  },
  {
   "cell_type": "code",
   "execution_count": 7,
   "metadata": {},
   "outputs": [
    {
     "data": {
      "text/plain": [
       "id                   0\n",
       "url                  0\n",
       "region               0\n",
       "region_url           0\n",
       "price                0\n",
       "year             95114\n",
       "manufacturer    110615\n",
       "model            98473\n",
       "condition       247138\n",
       "cylinders       226178\n",
       "fuel             96643\n",
       "odometer        153272\n",
       "title_status     96098\n",
       "transmission     95792\n",
       "vin             239437\n",
       "drive           192738\n",
       "size            321230\n",
       "type            182700\n",
       "paint_color     201654\n",
       "image_url        94196\n",
       "description      94203\n",
       "county          423857\n",
       "state                0\n",
       "lat              99453\n",
       "long             99453\n",
       "dtype: int64"
      ]
     },
     "execution_count": 7,
     "metadata": {},
     "output_type": "execute_result"
    }
   ],
   "source": [
    "#check for empty values\n",
    "df.isnull().sum()"
   ]
  },
  {
   "cell_type": "code",
   "execution_count": 8,
   "metadata": {},
   "outputs": [
    {
     "data": {
      "text/plain": [
       "<AxesSubplot:>"
      ]
     },
     "execution_count": 8,
     "metadata": {},
     "output_type": "execute_result"
    },
    {
     "data": {
      "image/png": "[encoded data removed]",
      "text/plain": [
       "<Figure size 1440x720 with 2 Axes>"
      ]
     },
     "metadata": {
      "needs_background": "light"
     },
     "output_type": "display_data"
    }
   ],
   "source": [
    "#set the size of the plot to make it easier to view\n",
    "plt.figure(figsize=(20,10))\n",
    "\n",
    "#use seaborn's heatmap to visualize where the null values are\n",
    "sns.heatmap(df.isnull())"
   ]
  },
  {
   "cell_type": "markdown",
   "metadata": {},
   "source": [
    "**There is a lot of missing data in this dataset.** Once we explore the data and understand more about how the columns correlate, we will be able to make an informed decision on what to do. **Some options include deleting entire rows and imputing with mean or other stats, or using KNN.**  \n",
    "\n",
    "County does not have any values in it. **Does the county column add any value?** \n",
    "\n",
    "**These columns have the most missing values: condition, cylinders, vin, drive, size, type, paint_color, and county.**"
   ]
  },
  {
   "cell_type": "markdown",
   "metadata": {},
   "source": [
    "### <span id=\"Duplicates\"> Check For Duplicates </span> "
   ]
  },
  {
   "cell_type": "code",
   "execution_count": 9,
   "metadata": {},
   "outputs": [
    {
     "name": "stdout",
     "output_type": "stream",
     "text": [
      "No duplicates!\n"
     ]
    }
   ],
   "source": [
    "#check for duplicates\n",
    "if df.duplicated().sum() == 0:\n",
    "    print('No duplicates!')\n",
    "else:\n",
    "    df.duplicated().sum()"
   ]
  },
  {
   "cell_type": "markdown",
   "metadata": {},
   "source": [
    "### <span id=\"VIN\"> Fill Empty 'Year' Values by VIN Number </span>"
   ]
  },
  {
   "cell_type": "markdown",
   "metadata": {},
   "source": [
    "NOTE: The 10th digit in a 17 digit VIN number contains the year. So, we can use the VIN number to impute any missing year values where a VIN number is present."
   ]
  },
  {
   "cell_type": "code",
   "execution_count": 10,
   "metadata": {},
   "outputs": [
    {
     "data": {
      "text/plain": [
       "{'L': 1990,\n",
       " 'M': 1991,\n",
       " 'N': 1992,\n",
       " 'P': 1993,\n",
       " 'R': 1994,\n",
       " 'S': 1995,\n",
       " 'T': 1996,\n",
       " 'V': 1997,\n",
       " 'W': 1998,\n",
       " 'X': 1999,\n",
       " 'Y': 2000,\n",
       " '1': 2001,\n",
       " '2': 2002,\n",
       " '3': 2003,\n",
       " '4': 2004,\n",
       " '5': 2005,\n",
       " '6': 2006,\n",
       " '7': 2007,\n",
       " '8': 2008,\n",
       " '9': 2009,\n",
       " 'A': 2010,\n",
       " 'B': 2011,\n",
       " 'C': 2012,\n",
       " 'D': 2013,\n",
       " 'E': 2014,\n",
       " 'F': 2015,\n",
       " 'G': 2016,\n",
       " 'H': 2017,\n",
       " 'J': 2018,\n",
       " 'K': 2019}"
      ]
     },
     "execution_count": 10,
     "metadata": {},
     "output_type": "execute_result"
    }
   ],
   "source": [
    "#string form of years from 1990 to 2019 according to 'https://support.alldata.com/alldata-repair-online-article/vin-to-year-chart#:~:text=The%2010th%20character%20in%20the,built%20in%20or%20after%201981.'\n",
    "keys = 'LMNPRSTVWXY123456789ABCDEFGHJK'\n",
    "\n",
    "#use dict comprehension to create dictionary for vin and year\n",
    "vin_year_dict = {key:1990+i for i,key in enumerate(keys)}\n",
    "\n",
    "#visualize vin_year_dict\n",
    "vin_year_dict"
   ]
  },
  {
   "cell_type": "code",
   "execution_count": 11,
   "metadata": {},
   "outputs": [],
   "source": [
    "#define function to check if vin number is a string and 17 char in length (validation)\n",
    "def check_str(value):\n",
    "    if type(value) == str and len(value) == 17:\n",
    "        return value[9]\n",
    "    else:\n",
    "        return False"
   ]
  },
  {
   "cell_type": "code",
   "execution_count": 12,
   "metadata": {},
   "outputs": [],
   "source": [
    "#get year from vin and add to vin_year column\n",
    "df['vin_year'] = [vin_year_dict[v[9]] if (check_str(v) in vin_year_dict.keys()) else np.nan for i,v in enumerate(df['vin']) ]"
   ]
  },
  {
   "cell_type": "code",
   "execution_count": 13,
   "metadata": {},
   "outputs": [
    {
     "data": {
      "text/html": [
       "<div>\n",
       "<style scoped>\n",
       "    .dataframe tbody tr th:only-of-type {\n",
       "        vertical-align: middle;\n",
       "    }\n",
       "\n",
       "    .dataframe tbody tr th {\n",
       "        vertical-align: top;\n",
       "    }\n",
       "\n",
       "    .dataframe thead th {\n",
       "        text-align: right;\n",
       "    }\n",
       "</style>\n",
       "<table border=\"1\" class=\"dataframe\">\n",
       "  <thead>\n",
       "    <tr style=\"text-align: right;\">\n",
       "      <th></th>\n",
       "      <th>year</th>\n",
       "      <th>vin_year</th>\n",
       "    </tr>\n",
       "  </thead>\n",
       "  <tbody>\n",
       "    <tr>\n",
       "      <th>2431</th>\n",
       "      <td>NaN</td>\n",
       "      <td>1990.0</td>\n",
       "    </tr>\n",
       "    <tr>\n",
       "      <th>4565</th>\n",
       "      <td>NaN</td>\n",
       "      <td>2019.0</td>\n",
       "    </tr>\n",
       "    <tr>\n",
       "      <th>4908</th>\n",
       "      <td>NaN</td>\n",
       "      <td>1990.0</td>\n",
       "    </tr>\n",
       "    <tr>\n",
       "      <th>4910</th>\n",
       "      <td>NaN</td>\n",
       "      <td>1990.0</td>\n",
       "    </tr>\n",
       "    <tr>\n",
       "      <th>5563</th>\n",
       "      <td>NaN</td>\n",
       "      <td>2019.0</td>\n",
       "    </tr>\n",
       "    <tr>\n",
       "      <th>...</th>\n",
       "      <td>...</td>\n",
       "      <td>...</td>\n",
       "    </tr>\n",
       "    <tr>\n",
       "      <th>417144</th>\n",
       "      <td>NaN</td>\n",
       "      <td>1990.0</td>\n",
       "    </tr>\n",
       "    <tr>\n",
       "      <th>417744</th>\n",
       "      <td>NaN</td>\n",
       "      <td>2019.0</td>\n",
       "    </tr>\n",
       "    <tr>\n",
       "      <th>418703</th>\n",
       "      <td>NaN</td>\n",
       "      <td>2018.0</td>\n",
       "    </tr>\n",
       "    <tr>\n",
       "      <th>421044</th>\n",
       "      <td>NaN</td>\n",
       "      <td>NaN</td>\n",
       "    </tr>\n",
       "    <tr>\n",
       "      <th>422463</th>\n",
       "      <td>NaN</td>\n",
       "      <td>2019.0</td>\n",
       "    </tr>\n",
       "  </tbody>\n",
       "</table>\n",
       "<p>95114 rows × 2 columns</p>\n",
       "</div>"
      ],
      "text/plain": [
       "        year  vin_year\n",
       "2431     NaN    1990.0\n",
       "4565     NaN    2019.0\n",
       "4908     NaN    1990.0\n",
       "4910     NaN    1990.0\n",
       "5563     NaN    2019.0\n",
       "...      ...       ...\n",
       "417144   NaN    1990.0\n",
       "417744   NaN    2019.0\n",
       "418703   NaN    2018.0\n",
       "421044   NaN       NaN\n",
       "422463   NaN    2019.0\n",
       "\n",
       "[95114 rows x 2 columns]"
      ]
     },
     "execution_count": 13,
     "metadata": {},
     "output_type": "execute_result"
    }
   ],
   "source": [
    "miss_year = df['year'].isnull()\n",
    "df.loc[miss_year,['year','vin_year']]"
   ]
  },
  {
   "cell_type": "markdown",
   "metadata": {},
   "source": [
    "#### Missing 'year' values BEFORE FillNA"
   ]
  },
  {
   "cell_type": "code",
   "execution_count": 14,
   "metadata": {},
   "outputs": [
    {
     "data": {
      "text/plain": [
       "95114"
      ]
     },
     "execution_count": 14,
     "metadata": {},
     "output_type": "execute_result"
    }
   ],
   "source": [
    "#missing number of years before fillna\n",
    "df['year'].isnull().sum()"
   ]
  },
  {
   "cell_type": "markdown",
   "metadata": {},
   "source": [
    "#### FillNA in action"
   ]
  },
  {
   "cell_type": "code",
   "execution_count": 15,
   "metadata": {},
   "outputs": [],
   "source": [
    "#fill na values in 'year' column with vin_year 'column' as a float to match 'year' column type\n",
    "df['year'] = df['year'].fillna(df['vin_year'].astype('float64'))"
   ]
  },
  {
   "cell_type": "markdown",
   "metadata": {},
   "source": [
    "#### Missing 'year' values AFTER FillNA"
   ]
  },
  {
   "cell_type": "code",
   "execution_count": 16,
   "metadata": {
    "scrolled": true
   },
   "outputs": [
    {
     "data": {
      "text/plain": [
       "94200"
      ]
     },
     "execution_count": 16,
     "metadata": {},
     "output_type": "execute_result"
    }
   ],
   "source": [
    "#missing number of years after fillna -- 914 values filled from the vin!!\n",
    "df['year'].isnull().sum()"
   ]
  },
  {
   "cell_type": "code",
   "execution_count": 17,
   "metadata": {},
   "outputs": [
    {
     "data": {
      "text/plain": [
       "2019.0"
      ]
     },
     "execution_count": 17,
     "metadata": {},
     "output_type": "execute_result"
    }
   ],
   "source": [
    "#check if previously nan value (index of 4565) was filled correctly\n",
    "df['year'][4565]"
   ]
  },
  {
   "cell_type": "markdown",
   "metadata": {},
   "source": [
    "Now we have all the possible year values exractable from other columns."
   ]
  },
  {
   "cell_type": "code",
   "execution_count": 18,
   "metadata": {},
   "outputs": [
    {
     "data": {
      "text/plain": [
       "1911.0    1\n",
       "1922.0    1\n",
       "1925.0    1\n",
       "1912.0    1\n",
       "1915.0    1\n",
       "1917.0    1\n",
       "1913.0    1\n",
       "1920.0    2\n",
       "1919.0    3\n",
       "1901.0    3\n",
       "1918.0    3\n",
       "1945.0    4\n",
       "1944.0    4\n",
       "1943.0    6\n",
       "Name: year, dtype: int64"
      ]
     },
     "execution_count": 18,
     "metadata": {},
     "output_type": "execute_result"
    }
   ],
   "source": [
    "#check for outliers in year values\n",
    "df['year'].value_counts().sort_values(ascending=True).head(14)"
   ]
  },
  {
   "cell_type": "markdown",
   "metadata": {},
   "source": [
    "### <span id=\"Drop\"> Drop special conditions </span>"
   ]
  },
  {
   "cell_type": "markdown",
   "metadata": {},
   "source": [
    "#### Drop the business specific rows"
   ]
  },
  {
   "cell_type": "code",
   "execution_count": 19,
   "metadata": {},
   "outputs": [
    {
     "data": {
      "text/html": [
       "<div>\n",
       "<style scoped>\n",
       "    .dataframe tbody tr th:only-of-type {\n",
       "        vertical-align: middle;\n",
       "    }\n",
       "\n",
       "    .dataframe tbody tr th {\n",
       "        vertical-align: top;\n",
       "    }\n",
       "\n",
       "    .dataframe thead th {\n",
       "        text-align: right;\n",
       "    }\n",
       "</style>\n",
       "<table border=\"1\" class=\"dataframe\">\n",
       "  <thead>\n",
       "    <tr style=\"text-align: right;\">\n",
       "      <th></th>\n",
       "      <th>id</th>\n",
       "      <th>price</th>\n",
       "      <th>year</th>\n",
       "      <th>odometer</th>\n",
       "      <th>county</th>\n",
       "      <th>lat</th>\n",
       "      <th>long</th>\n",
       "      <th>vin_year</th>\n",
       "    </tr>\n",
       "  </thead>\n",
       "  <tbody>\n",
       "    <tr>\n",
       "      <th>count</th>\n",
       "      <td>3.673810e+05</td>\n",
       "      <td>367381.00000</td>\n",
       "      <td>281131.000000</td>\n",
       "      <td>2.358140e+05</td>\n",
       "      <td>0.0</td>\n",
       "      <td>279343.000000</td>\n",
       "      <td>279343.000000</td>\n",
       "      <td>159293.000000</td>\n",
       "    </tr>\n",
       "    <tr>\n",
       "      <th>mean</th>\n",
       "      <td>7.190709e+09</td>\n",
       "      <td>15043.18888</td>\n",
       "      <td>2011.074382</td>\n",
       "      <td>1.042051e+05</td>\n",
       "      <td>NaN</td>\n",
       "      <td>38.788533</td>\n",
       "      <td>-93.790007</td>\n",
       "      <td>2012.333794</td>\n",
       "    </tr>\n",
       "    <tr>\n",
       "      <th>std</th>\n",
       "      <td>5.157905e+06</td>\n",
       "      <td>13701.66971</td>\n",
       "      <td>5.903410</td>\n",
       "      <td>1.101406e+05</td>\n",
       "      <td>NaN</td>\n",
       "      <td>5.944142</td>\n",
       "      <td>17.833631</td>\n",
       "      <td>5.519919</td>\n",
       "    </tr>\n",
       "    <tr>\n",
       "      <th>min</th>\n",
       "      <td>7.178302e+09</td>\n",
       "      <td>101.00000</td>\n",
       "      <td>1990.000000</td>\n",
       "      <td>5.000000e+03</td>\n",
       "      <td>NaN</td>\n",
       "      <td>-80.386400</td>\n",
       "      <td>-161.394000</td>\n",
       "      <td>1990.000000</td>\n",
       "    </tr>\n",
       "    <tr>\n",
       "      <th>25%</th>\n",
       "      <td>7.186855e+09</td>\n",
       "      <td>5950.00000</td>\n",
       "      <td>2007.000000</td>\n",
       "      <td>5.048800e+04</td>\n",
       "      <td>NaN</td>\n",
       "      <td>35.083750</td>\n",
       "      <td>-106.522000</td>\n",
       "      <td>2009.000000</td>\n",
       "    </tr>\n",
       "    <tr>\n",
       "      <th>50%</th>\n",
       "      <td>7.192309e+09</td>\n",
       "      <td>11495.00000</td>\n",
       "      <td>2012.000000</td>\n",
       "      <td>9.624200e+04</td>\n",
       "      <td>NaN</td>\n",
       "      <td>39.494500</td>\n",
       "      <td>-87.843300</td>\n",
       "      <td>2014.000000</td>\n",
       "    </tr>\n",
       "    <tr>\n",
       "      <th>75%</th>\n",
       "      <td>7.195000e+09</td>\n",
       "      <td>19990.00000</td>\n",
       "      <td>2016.000000</td>\n",
       "      <td>1.415875e+05</td>\n",
       "      <td>NaN</td>\n",
       "      <td>42.586550</td>\n",
       "      <td>-80.958900</td>\n",
       "      <td>2017.000000</td>\n",
       "    </tr>\n",
       "    <tr>\n",
       "      <th>max</th>\n",
       "      <td>7.197006e+09</td>\n",
       "      <td>479500.00000</td>\n",
       "      <td>2020.000000</td>\n",
       "      <td>1.000000e+07</td>\n",
       "      <td>NaN</td>\n",
       "      <td>80.383400</td>\n",
       "      <td>115.524000</td>\n",
       "      <td>2019.000000</td>\n",
       "    </tr>\n",
       "  </tbody>\n",
       "</table>\n",
       "</div>"
      ],
      "text/plain": [
       "                 id         price           year      odometer  county  \\\n",
       "count  3.673810e+05  367381.00000  281131.000000  2.358140e+05     0.0   \n",
       "mean   7.190709e+09   15043.18888    2011.074382  1.042051e+05     NaN   \n",
       "std    5.157905e+06   13701.66971       5.903410  1.101406e+05     NaN   \n",
       "min    7.178302e+09     101.00000    1990.000000  5.000000e+03     NaN   \n",
       "25%    7.186855e+09    5950.00000    2007.000000  5.048800e+04     NaN   \n",
       "50%    7.192309e+09   11495.00000    2012.000000  9.624200e+04     NaN   \n",
       "75%    7.195000e+09   19990.00000    2016.000000  1.415875e+05     NaN   \n",
       "max    7.197006e+09  479500.00000    2020.000000  1.000000e+07     NaN   \n",
       "\n",
       "                 lat           long       vin_year  \n",
       "count  279343.000000  279343.000000  159293.000000  \n",
       "mean       38.788533     -93.790007    2012.333794  \n",
       "std         5.944142      17.833631       5.519919  \n",
       "min       -80.386400    -161.394000    1990.000000  \n",
       "25%        35.083750    -106.522000    2009.000000  \n",
       "50%        39.494500     -87.843300    2014.000000  \n",
       "75%        42.586550     -80.958900    2017.000000  \n",
       "max        80.383400     115.524000    2019.000000  "
      ]
     },
     "execution_count": 19,
     "metadata": {},
     "output_type": "execute_result"
    }
   ],
   "source": [
    "#define the conditions to drop (based on the business model)\n",
    "zero_odometer = df['odometer']<5000\n",
    "max_price = df['price']>=500000\n",
    "min_price = df['price']<=100\n",
    "future_year = df['year']==2021\n",
    "min_year = df['year'].astype('float64')<1990\n",
    "\n",
    "#drop those conditions\n",
    "dropped_df = df.drop(df.loc[zero_odometer|max_price|min_price|future_year|min_year].index)\n",
    "\n",
    "dropped_df.describe()"
   ]
  },
  {
   "cell_type": "code",
   "execution_count": 20,
   "metadata": {},
   "outputs": [],
   "source": [
    "#drop county column as there is not data here\n",
    "dropped_df.drop(columns=['county'], inplace=True)"
   ]
  },
  {
   "cell_type": "code",
   "execution_count": 21,
   "metadata": {},
   "outputs": [],
   "source": [
    "#drop the rows missing the manufacturer and model\n",
    "dropped_df.drop(dropped_df.loc[(dropped_df['manufacturer'].isna())|(dropped_df['model'].isna())].index, inplace=True)"
   ]
  },
  {
   "cell_type": "code",
   "execution_count": 22,
   "metadata": {},
   "outputs": [
    {
     "data": {
      "text/plain": [
       "{'county'}"
      ]
     },
     "execution_count": 22,
     "metadata": {},
     "output_type": "execute_result"
    }
   ],
   "source": [
    "#check if county column dropped\n",
    "set(dropped_df.columns).symmetric_difference(set(df.columns))"
   ]
  },
  {
   "cell_type": "code",
   "execution_count": 23,
   "metadata": {},
   "outputs": [
    {
     "data": {
      "text/plain": [
       "size            69.0\n",
       "condition       45.0\n",
       "vin_year        42.0\n",
       "vin             42.0\n",
       "cylinders       38.0\n",
       "paint_color     31.0\n",
       "drive           28.0\n",
       "type            26.0\n",
       "odometer        15.0\n",
       "long             1.0\n",
       "fuel             1.0\n",
       "lat              1.0\n",
       "region_url       0.0\n",
       "manufacturer     0.0\n",
       "region           0.0\n",
       "price            0.0\n",
       "url              0.0\n",
       "year             0.0\n",
       "title_status     0.0\n",
       "model            0.0\n",
       "transmission     0.0\n",
       "image_url        0.0\n",
       "description      0.0\n",
       "state            0.0\n",
       "id               0.0\n",
       "dtype: float64"
      ]
     },
     "execution_count": 23,
     "metadata": {},
     "output_type": "execute_result"
    }
   ],
   "source": [
    "#if count of missing values > 90% of total column then drop the column\n",
    "total_null = dropped_df.isna().sum()\n",
    "total = len(dropped_df.index)\n",
    "percent_null = round((total_null/total)*100, 0)\n",
    "percent_null.sort_values(ascending=False)"
   ]
  },
  {
   "cell_type": "markdown",
   "metadata": {},
   "source": [
    "Looks like the highest ratio of missing values is from the size column at 69%. This concludes that we will not be dropping any more columns at this time. The next questions are \n",
    "* 1) Are there rows with more than 90% missing values? drop them. \n",
    "* 2) What do the missing values really tell us? and \n",
    "* 3) What do we do now about those missing values? Impute the mean, for example\n"
   ]
  },
  {
   "cell_type": "code",
   "execution_count": 24,
   "metadata": {},
   "outputs": [],
   "source": [
    "# 1) \n",
    "\n",
    "#if count of missing values > 90% of total row then drop the row\n",
    "#can i use map and lambda to make function quicker?\n",
    "miss_maj_row = [True if row.isnull().sum() > (len(row)*0.9)-4 else False for idx,row in dropped_df.iterrows()]"
   ]
  },
  {
   "cell_type": "code",
   "execution_count": 25,
   "metadata": {},
   "outputs": [
    {
     "data": {
      "text/plain": [
       "0"
      ]
     },
     "execution_count": 25,
     "metadata": {},
     "output_type": "execute_result"
    }
   ],
   "source": [
    "#check for rows to be dropped\n",
    "miss_maj_row.count(True)"
   ]
  },
  {
   "cell_type": "code",
   "execution_count": 26,
   "metadata": {},
   "outputs": [],
   "source": [
    "#test = dropped_df.map({np.nan:True,})\n",
    "\n",
    "#drop rows where missing data is more than 90%\n",
    "dropped_df.drop(dropped_df.loc[miss_maj_row].index, inplace=True)"
   ]
  },
  {
   "cell_type": "code",
   "execution_count": 27,
   "metadata": {},
   "outputs": [
    {
     "data": {
      "text/plain": [
       "<AxesSubplot:>"
      ]
     },
     "execution_count": 27,
     "metadata": {},
     "output_type": "execute_result"
    },
    {
     "data": {
      "image/png": "[encoded data removed]",
      "text/plain": [
       "<Figure size 1440x720 with 2 Axes>"
      ]
     },
     "metadata": {
      "needs_background": "light"
     },
     "output_type": "display_data"
    }
   ],
   "source": [
    "#set the size of the plot to make it easier to view\n",
    "plt.figure(figsize=(20,10))\n",
    "\n",
    "#use seaborn's heatmap to visualize where the null values are\n",
    "sns.heatmap(dropped_df.isnull())"
   ]
  },
  {
   "cell_type": "code",
   "execution_count": 28,
   "metadata": {},
   "outputs": [
    {
     "data": {
      "text/plain": [
       "(266524, 25)"
      ]
     },
     "execution_count": 28,
     "metadata": {},
     "output_type": "execute_result"
    }
   ],
   "source": [
    "dropped_df.shape"
   ]
  },
  {
   "cell_type": "code",
   "execution_count": null,
   "metadata": {},
   "outputs": [],
   "source": []
  },
  {
   "cell_type": "markdown",
   "metadata": {},
   "source": [
    "### <span id=\"KNN\"> KNN Impute missing values </span>"
   ]
  },
  {
   "cell_type": "markdown",
   "metadata": {},
   "source": [
    "1 of 3. Explored 3 ways to impute missing values."
   ]
  },
  {
   "cell_type": "markdown",
   "metadata": {},
   "source": [
    "NOTE: below is another, more specific way to impute missing values. Due to the size of the dataset and how memory intensive KNN is, the code below is commented out, but left as a guide for future projects. See next section Fill Missing Values via Pandas Fillna"
   ]
  },
  {
   "cell_type": "code",
   "execution_count": 29,
   "metadata": {},
   "outputs": [],
   "source": [
    "#loop through dataframe and map through each categorical type column replacing strings with numerical values.\n",
    "def map_cat(df):\n",
    "    for c in df.columns:\n",
    "        if df[c].dtype == np.object:\n",
    "            map_condition = {v: 1+i for i,v in enumerate(df[c].unique())}\n",
    "            new_column = str(c)+'_map'\n",
    "            df[c] = df[c].map(map_condition)\n",
    "    return df"
   ]
  },
  {
   "cell_type": "code",
   "execution_count": 30,
   "metadata": {},
   "outputs": [],
   "source": [
    "#copy the dataframe to be mapped to numerical values\n",
    "to_map = dropped_df.copy()\n",
    "\n",
    "#assign the result of map_cat\n",
    "to_fill = map_cat(to_map)"
   ]
  },
  {
   "cell_type": "code",
   "execution_count": 31,
   "metadata": {},
   "outputs": [
    {
     "data": {
      "text/html": [
       "<div>\n",
       "<style scoped>\n",
       "    .dataframe tbody tr th:only-of-type {\n",
       "        vertical-align: middle;\n",
       "    }\n",
       "\n",
       "    .dataframe tbody tr th {\n",
       "        vertical-align: top;\n",
       "    }\n",
       "\n",
       "    .dataframe thead th {\n",
       "        text-align: right;\n",
       "    }\n",
       "</style>\n",
       "<table border=\"1\" class=\"dataframe\">\n",
       "  <thead>\n",
       "    <tr style=\"text-align: right;\">\n",
       "      <th></th>\n",
       "      <th>id</th>\n",
       "      <th>url</th>\n",
       "      <th>region</th>\n",
       "      <th>region_url</th>\n",
       "      <th>price</th>\n",
       "      <th>year</th>\n",
       "      <th>manufacturer</th>\n",
       "      <th>model</th>\n",
       "      <th>condition</th>\n",
       "      <th>cylinders</th>\n",
       "      <th>...</th>\n",
       "      <th>drive</th>\n",
       "      <th>size</th>\n",
       "      <th>type</th>\n",
       "      <th>paint_color</th>\n",
       "      <th>image_url</th>\n",
       "      <th>description</th>\n",
       "      <th>state</th>\n",
       "      <th>lat</th>\n",
       "      <th>long</th>\n",
       "      <th>vin_year</th>\n",
       "    </tr>\n",
       "  </thead>\n",
       "  <tbody>\n",
       "    <tr>\n",
       "      <th>0</th>\n",
       "      <td>7184791621</td>\n",
       "      <td>1</td>\n",
       "      <td>1</td>\n",
       "      <td>1</td>\n",
       "      <td>6995</td>\n",
       "      <td>2000.0</td>\n",
       "      <td>1</td>\n",
       "      <td>1</td>\n",
       "      <td>1</td>\n",
       "      <td>1</td>\n",
       "      <td>...</td>\n",
       "      <td>1</td>\n",
       "      <td>1</td>\n",
       "      <td>1</td>\n",
       "      <td>1</td>\n",
       "      <td>1</td>\n",
       "      <td>1</td>\n",
       "      <td>1</td>\n",
       "      <td>46.8433</td>\n",
       "      <td>-92.2550</td>\n",
       "      <td>2000.0</td>\n",
       "    </tr>\n",
       "    <tr>\n",
       "      <th>1</th>\n",
       "      <td>7184773187</td>\n",
       "      <td>2</td>\n",
       "      <td>1</td>\n",
       "      <td>1</td>\n",
       "      <td>8750</td>\n",
       "      <td>2013.0</td>\n",
       "      <td>2</td>\n",
       "      <td>2</td>\n",
       "      <td>1</td>\n",
       "      <td>2</td>\n",
       "      <td>...</td>\n",
       "      <td>2</td>\n",
       "      <td>1</td>\n",
       "      <td>1</td>\n",
       "      <td>2</td>\n",
       "      <td>2</td>\n",
       "      <td>2</td>\n",
       "      <td>1</td>\n",
       "      <td>46.9074</td>\n",
       "      <td>-92.4638</td>\n",
       "      <td>NaN</td>\n",
       "    </tr>\n",
       "    <tr>\n",
       "      <th>2</th>\n",
       "      <td>7193375964</td>\n",
       "      <td>3</td>\n",
       "      <td>2</td>\n",
       "      <td>2</td>\n",
       "      <td>10900</td>\n",
       "      <td>2013.0</td>\n",
       "      <td>3</td>\n",
       "      <td>3</td>\n",
       "      <td>2</td>\n",
       "      <td>2</td>\n",
       "      <td>...</td>\n",
       "      <td>2</td>\n",
       "      <td>1</td>\n",
       "      <td>1</td>\n",
       "      <td>3</td>\n",
       "      <td>3</td>\n",
       "      <td>3</td>\n",
       "      <td>2</td>\n",
       "      <td>41.1770</td>\n",
       "      <td>-73.1336</td>\n",
       "      <td>NaN</td>\n",
       "    </tr>\n",
       "    <tr>\n",
       "      <th>3</th>\n",
       "      <td>7195108810</td>\n",
       "      <td>4</td>\n",
       "      <td>3</td>\n",
       "      <td>3</td>\n",
       "      <td>12500</td>\n",
       "      <td>2003.0</td>\n",
       "      <td>4</td>\n",
       "      <td>4</td>\n",
       "      <td>2</td>\n",
       "      <td>2</td>\n",
       "      <td>...</td>\n",
       "      <td>1</td>\n",
       "      <td>2</td>\n",
       "      <td>2</td>\n",
       "      <td>2</td>\n",
       "      <td>4</td>\n",
       "      <td>4</td>\n",
       "      <td>3</td>\n",
       "      <td>35.1868</td>\n",
       "      <td>-106.6650</td>\n",
       "      <td>NaN</td>\n",
       "    </tr>\n",
       "    <tr>\n",
       "      <th>4</th>\n",
       "      <td>7184712241</td>\n",
       "      <td>5</td>\n",
       "      <td>1</td>\n",
       "      <td>1</td>\n",
       "      <td>16995</td>\n",
       "      <td>2007.0</td>\n",
       "      <td>1</td>\n",
       "      <td>5</td>\n",
       "      <td>2</td>\n",
       "      <td>1</td>\n",
       "      <td>...</td>\n",
       "      <td>1</td>\n",
       "      <td>3</td>\n",
       "      <td>3</td>\n",
       "      <td>4</td>\n",
       "      <td>5</td>\n",
       "      <td>5</td>\n",
       "      <td>1</td>\n",
       "      <td>45.6836</td>\n",
       "      <td>-92.9648</td>\n",
       "      <td>2007.0</td>\n",
       "    </tr>\n",
       "  </tbody>\n",
       "</table>\n",
       "<p>5 rows × 25 columns</p>\n",
       "</div>"
      ],
      "text/plain": [
       "           id  url  region  region_url  price    year  manufacturer  model  \\\n",
       "0  7184791621    1       1           1   6995  2000.0             1      1   \n",
       "1  7184773187    2       1           1   8750  2013.0             2      2   \n",
       "2  7193375964    3       2           2  10900  2013.0             3      3   \n",
       "3  7195108810    4       3           3  12500  2003.0             4      4   \n",
       "4  7184712241    5       1           1  16995  2007.0             1      5   \n",
       "\n",
       "   condition  cylinders  ...  drive  size  type  paint_color  image_url  \\\n",
       "0          1          1  ...      1     1     1            1          1   \n",
       "1          1          2  ...      2     1     1            2          2   \n",
       "2          2          2  ...      2     1     1            3          3   \n",
       "3          2          2  ...      1     2     2            2          4   \n",
       "4          2          1  ...      1     3     3            4          5   \n",
       "\n",
       "   description  state      lat      long  vin_year  \n",
       "0            1      1  46.8433  -92.2550    2000.0  \n",
       "1            2      1  46.9074  -92.4638       NaN  \n",
       "2            3      2  41.1770  -73.1336       NaN  \n",
       "3            4      3  35.1868 -106.6650       NaN  \n",
       "4            5      1  45.6836  -92.9648    2007.0  \n",
       "\n",
       "[5 rows x 25 columns]"
      ]
     },
     "execution_count": 31,
     "metadata": {},
     "output_type": "execute_result"
    }
   ],
   "source": [
    "to_fill.head()"
   ]
  },
  {
   "cell_type": "code",
   "execution_count": 32,
   "metadata": {},
   "outputs": [],
   "source": [
    "imputer = KNNImputer(n_neighbors=3)"
   ]
  },
  {
   "cell_type": "code",
   "execution_count": 33,
   "metadata": {},
   "outputs": [
    {
     "data": {
      "text/plain": [
       "KNNImputer(n_neighbors=3)"
      ]
     },
     "execution_count": 33,
     "metadata": {},
     "output_type": "execute_result"
    }
   ],
   "source": [
    "#sample the df as the data is too large for reasonable output times. \n",
    "fit_df = to_fill.sample(n=3000, random_state=1)\n",
    "\n",
    "imputer.fit(fit_df)"
   ]
  },
  {
   "cell_type": "code",
   "execution_count": 34,
   "metadata": {},
   "outputs": [],
   "source": [
    "knn_fill = pd.DataFrame(data=imputer.transform(to_fill), columns=to_fill.columns)"
   ]
  },
  {
   "cell_type": "code",
   "execution_count": 35,
   "metadata": {},
   "outputs": [
    {
     "data": {
      "text/plain": [
       "id              0\n",
       "url             0\n",
       "region          0\n",
       "region_url      0\n",
       "price           0\n",
       "year            0\n",
       "manufacturer    0\n",
       "model           0\n",
       "condition       0\n",
       "cylinders       0\n",
       "fuel            0\n",
       "odometer        0\n",
       "title_status    0\n",
       "transmission    0\n",
       "vin             0\n",
       "drive           0\n",
       "size            0\n",
       "type            0\n",
       "paint_color     0\n",
       "image_url       0\n",
       "description     0\n",
       "state           0\n",
       "lat             0\n",
       "long            0\n",
       "vin_year        0\n",
       "dtype: int64"
      ]
     },
     "execution_count": 35,
     "metadata": {},
     "output_type": "execute_result"
    }
   ],
   "source": [
    "knn_fill.isnull().sum()"
   ]
  },
  {
   "cell_type": "code",
   "execution_count": null,
   "metadata": {},
   "outputs": [],
   "source": []
  },
  {
   "cell_type": "markdown",
   "metadata": {},
   "source": [
    "### <span id=\"Fillna\">Custom Fill Missing Values</span>"
   ]
  },
  {
   "cell_type": "markdown",
   "metadata": {},
   "source": [
    "2 of 3. Explored 3 ways to impute missing values."
   ]
  },
  {
   "cell_type": "code",
   "execution_count": 69,
   "metadata": {},
   "outputs": [],
   "source": [
    "# filled_df = dropped_df.fillna(dropped_df.mean())\n",
    "\n",
    "to_fill = dropped_df.copy()"
   ]
  },
  {
   "cell_type": "code",
   "execution_count": 70,
   "metadata": {},
   "outputs": [
    {
     "data": {
      "text/plain": [
       "7189037499.4385605"
      ]
     },
     "execution_count": 70,
     "metadata": {},
     "output_type": "execute_result"
    }
   ],
   "source": [
    "# #set the size of the plot to make it easier to view\n",
    "# plt.figure(figsize=(20,10))\n",
    "\n",
    "# #use seaborn's heatmap to visualize where the null values are\n",
    "# sns.heatmap(filled_df.isnull())\n",
    "\n",
    "to_fill['id'].mean()"
   ]
  },
  {
   "cell_type": "code",
   "execution_count": 71,
   "metadata": {},
   "outputs": [],
   "source": [
    "#fillna with mean for numerical types and median for categorical types\n",
    "def fillAll(df):\n",
    "    for c in df.columns:\n",
    "        if df[c].dtype == np.int64 or df[c].dtype == np.float64:\n",
    "            #assert df[c].dtype == np.int64 or df[c].dtype == np.float64, 'not an number'\n",
    "            df[c] = df[c].fillna(df[c].mean())\n",
    "        elif df[c].dtype == np.object:\n",
    "            #assert df[c].dtype == np.object, 'not a object'\n",
    "            df[c] = df[c].fillna(df[c].mode()[0])\n",
    "        else:\n",
    "            return 'error in custom function'\n",
    "    return df"
   ]
  },
  {
   "cell_type": "code",
   "execution_count": 72,
   "metadata": {},
   "outputs": [],
   "source": [
    "custom_fill = fillAll(to_fill)"
   ]
  },
  {
   "cell_type": "code",
   "execution_count": 73,
   "metadata": {},
   "outputs": [
    {
     "data": {
      "text/plain": [
       "id              0\n",
       "url             0\n",
       "region          0\n",
       "region_url      0\n",
       "price           0\n",
       "year            0\n",
       "manufacturer    0\n",
       "model           0\n",
       "condition       0\n",
       "cylinders       0\n",
       "fuel            0\n",
       "odometer        0\n",
       "title_status    0\n",
       "transmission    0\n",
       "vin             0\n",
       "drive           0\n",
       "size            0\n",
       "type            0\n",
       "paint_color     0\n",
       "image_url       0\n",
       "description     0\n",
       "state           0\n",
       "lat             0\n",
       "long            0\n",
       "vin_year        0\n",
       "dtype: int64"
      ]
     },
     "execution_count": 73,
     "metadata": {},
     "output_type": "execute_result"
    }
   ],
   "source": [
    "custom_fill.isnull().sum()"
   ]
  },
  {
   "cell_type": "code",
   "execution_count": null,
   "metadata": {},
   "outputs": [],
   "source": []
  },
  {
   "cell_type": "code",
   "execution_count": null,
   "metadata": {},
   "outputs": [],
   "source": []
  },
  {
   "cell_type": "code",
   "execution_count": null,
   "metadata": {},
   "outputs": [],
   "source": []
  },
  {
   "cell_type": "markdown",
   "metadata": {},
   "source": [
    "### <span id=\"Simple\"> Simple Imputer</span>"
   ]
  },
  {
   "cell_type": "markdown",
   "metadata": {},
   "source": [
    "3 of 3. Explored 3 ways to impute missing values."
   ]
  },
  {
   "cell_type": "code",
   "execution_count": 41,
   "metadata": {},
   "outputs": [],
   "source": [
    "#copy dataframe \n",
    "to_fill = dropped_df.copy()"
   ]
  },
  {
   "cell_type": "code",
   "execution_count": 42,
   "metadata": {},
   "outputs": [],
   "source": [
    "#initialize simpleimputer\n",
    "imp_mean = SimpleImputer(missing_values=np.nan, strategy='most_frequent')"
   ]
  },
  {
   "cell_type": "code",
   "execution_count": 43,
   "metadata": {},
   "outputs": [
    {
     "data": {
      "text/plain": [
       "SimpleImputer(strategy='most_frequent')"
      ]
     },
     "execution_count": 43,
     "metadata": {},
     "output_type": "execute_result"
    }
   ],
   "source": [
    "#sample the df as the data is too large for reasonable output times. \n",
    "fit_df = dropped_df.sample(n=3000, random_state=1)\n",
    "\n",
    "#fit simple imputer on sample size\n",
    "imp_mean.fit(fit_df)"
   ]
  },
  {
   "cell_type": "code",
   "execution_count": 44,
   "metadata": {},
   "outputs": [],
   "source": [
    "#impute values and convert the nparray into a pandas dataframe\n",
    "simple_fill = pd.DataFrame(data=imp_mean.transform(to_fill), columns = dropped_df.columns, index=dropped_df.index)"
   ]
  },
  {
   "cell_type": "code",
   "execution_count": 76,
   "metadata": {},
   "outputs": [
    {
     "data": {
      "text/plain": [
       "id              False\n",
       "url             False\n",
       "region          False\n",
       "region_url      False\n",
       "price           False\n",
       "year            False\n",
       "manufacturer    False\n",
       "model           False\n",
       "condition       False\n",
       "cylinders       False\n",
       "fuel            False\n",
       "odometer        False\n",
       "title_status    False\n",
       "transmission    False\n",
       "vin             False\n",
       "drive           False\n",
       "size            False\n",
       "type            False\n",
       "paint_color     False\n",
       "image_url       False\n",
       "description     False\n",
       "state           False\n",
       "lat             False\n",
       "long            False\n",
       "vin_year        False\n",
       "dtype: bool"
      ]
     },
     "execution_count": 76,
     "metadata": {},
     "output_type": "execute_result"
    }
   ],
   "source": [
    "#check for null values\n",
    "simple_fill.isnull().any()\n"
   ]
  },
  {
   "cell_type": "code",
   "execution_count": 77,
   "metadata": {},
   "outputs": [
    {
     "data": {
      "text/plain": [
       "(266524, 25)"
      ]
     },
     "execution_count": 77,
     "metadata": {},
     "output_type": "execute_result"
    }
   ],
   "source": [
    "simple_fill.shape"
   ]
  },
  {
   "cell_type": "markdown",
   "metadata": {},
   "source": [
    "Success! Now we have no missing values and can check for correlation between variables in exploratory analysis."
   ]
  },
  {
   "cell_type": "code",
   "execution_count": 74,
   "metadata": {},
   "outputs": [
    {
     "name": "stderr",
     "output_type": "stream",
     "text": [
      "/usr/local/lib/python3.7/site-packages/seaborn/_decorators.py:43: FutureWarning: Pass the following variable as a keyword arg: x. From version 0.12, the only valid positional argument will be `data`, and passing other arguments without an explicit keyword will result in an error or misinterpretation.\n",
      "  FutureWarning\n",
      "/usr/local/lib/python3.7/site-packages/seaborn/_decorators.py:43: FutureWarning: Pass the following variable as a keyword arg: x. From version 0.12, the only valid positional argument will be `data`, and passing other arguments without an explicit keyword will result in an error or misinterpretation.\n",
      "  FutureWarning\n",
      "/usr/local/lib/python3.7/site-packages/seaborn/_decorators.py:43: FutureWarning: Pass the following variable as a keyword arg: x. From version 0.12, the only valid positional argument will be `data`, and passing other arguments without an explicit keyword will result in an error or misinterpretation.\n",
      "  FutureWarning\n"
     ]
    },
    {
     "data": {
      "text/plain": [
       "[Text(0.5, 1.0, 'Custom Fill'),\n",
       " Text(0.5, 0, 'Condition'),\n",
       " Text(0, 0.5, 'count')]"
      ]
     },
     "execution_count": 74,
     "metadata": {},
     "output_type": "execute_result"
    },
    {
     "data": {
      "image/png": "[encoded data removed]",
      "text/plain": [
       "<Figure size 1080x360 with 3 Axes>"
      ]
     },
     "metadata": {
      "needs_background": "light"
     },
     "output_type": "display_data"
    }
   ],
   "source": [
    "f, axs = plt.subplots(1, 3, figsize=(15,5), sharey=True)\n",
    "sns.countplot(simple_fill['condition'], ax=axs[0]).set(title='Simple Fill', xlabel='Condition', ylabel='count')\n",
    "sns.countplot(knn_fill['condition'], ax=axs[1]).set(title='KNN Fill', xlabel='Condition', ylabel='count')\n",
    "sns.countplot(custom_fill['condition'], ax=axs[2]).set(title='Custom Fill', xlabel='Condition', ylabel='count')"
   ]
  },
  {
   "cell_type": "markdown",
   "metadata": {},
   "source": [
    "### <span id=\"Conclusion\"> Data Wrangling Conclusion</span>"
   ]
  },
  {
   "cell_type": "markdown",
   "metadata": {},
   "source": [
    "The original data had a shape of (423857, 26). <br>\n",
    "After purging the data for relevancy to our business model, the data shape is now (266524, 25)\n",
    "\n",
    "Note: Features may be added depending on exploratory analysis"
   ]
  },
  {
   "cell_type": "markdown",
   "metadata": {},
   "source": [
    "After filling in missing values 3 different ways, the count plots demonstrate that KNN Imputer has the most diverse added values. We will continue with the KNN Imputer dataframe for the next step in the project."
   ]
  },
  {
   "cell_type": "markdown",
   "metadata": {},
   "source": [
    "There is more data to be extracted from the VIN number before filling in missing values like we did, however, these methods are less streamlined than extracting the year from the VIN like we did earlier. So, for this project we will continue with the current state of our data. "
   ]
  },
  {
   "cell_type": "markdown",
   "metadata": {},
   "source": [
    "All in all, the data has been cleaned, checked for duplicates, missing values "
   ]
  }
 ],
 "metadata": {
  "kernelspec": {
   "display_name": "Python 3",
   "language": "python",
   "name": "python3"
  },
  "language_info": {
   "codemirror_mode": {
    "name": "ipython",
    "version": 3
   },
   "file_extension": ".py",
   "mimetype": "text/x-python",
   "name": "python",
   "nbconvert_exporter": "python",
   "pygments_lexer": "ipython3",
   "version": "3.7.3"
  }
 },
 "nbformat": 4,
 "nbformat_minor": 4
}
